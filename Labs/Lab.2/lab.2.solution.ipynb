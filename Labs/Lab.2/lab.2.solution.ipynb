{
 "cells": [
  {
   "cell_type": "markdown",
   "metadata": {},
   "source": [
    "## Lab 2- Tic Tac Toe\n",
    "\n",
    "In this lab your will build a n x n Tic Tac Toe game. As you do the exercises, make sure your solutions work for any size Tic Tac Toe game. "
   ]
  },
  {
   "cell_type": "markdown",
   "metadata": {},
   "source": [
    "*Exercise 1:* Write a function that creates an n by n matrix (of list of lists) which will represent the state of a Tie Tac Toe game. Let 0, 1, and 2 represent empty, \"X\", and \"O\", respectively.\n"
   ]
  },
  {
   "cell_type": "code",
   "execution_count": 24,
   "metadata": {},
   "outputs": [],
   "source": [
    "# Write you solution here\n",
    "\n",
    "empty=0\n",
    "x=1\n",
    "o=2\n",
    "def matrix (n):\n",
    "    \n",
    "    board=list()\n",
    "    for i in range(n):\n",
    "        row=list()\n",
    "        for j in range(n):\n",
    "            row.append(empty)\n",
    "        board.append(row)\n",
    "        \n",
    "    return board"
   ]
  },
  {
   "cell_type": "code",
   "execution_count": 26,
   "metadata": {},
   "outputs": [
    {
     "data": {
      "text/plain": [
       "[[0, 0, 0], [0, 0, 0], [0, 0, 0]]"
      ]
     },
     "execution_count": 26,
     "metadata": {},
     "output_type": "execute_result"
    }
   ],
   "source": [
    "# Test your solution here\n",
    "m=matrix(3)\n",
    "m"
   ]
  },
  {
   "cell_type": "markdown",
   "metadata": {},
   "source": [
    "*Exercise 2:* Write a function that takes 2 integers `n` and `m` as input and draws a `n` by `m` game board. For example the following is a 3x3 board:\n",
    "```\n",
    "   --- --- --- \n",
    "  |   |   |   | \n",
    "   --- --- ---  \n",
    "  |   |   |   | \n",
    "   --- --- ---  \n",
    "  |   |   |   | \n",
    "   --- --- --- \n",
    "   ```"
   ]
  },
  {
   "cell_type": "code",
   "execution_count": 7,
   "metadata": {},
   "outputs": [],
   "source": [
    "# Write you solution here\n",
    "def game_board(n,m):\n",
    "    print(' ---'*n)\n",
    "    for i in range(m):\n",
    "        print('|   '*(n+1))\n",
    "        print(' ---'*n)\n",
    "    return \n",
    "        "
   ]
  },
  {
   "cell_type": "code",
   "execution_count": 9,
   "metadata": {},
   "outputs": [
    {
     "name": "stdout",
     "output_type": "stream",
     "text": [
      " --- --- --- --- ---\n",
      "|   |   |   |   |   |   \n",
      " --- --- --- --- ---\n",
      "|   |   |   |   |   |   \n",
      " --- --- --- --- ---\n",
      "|   |   |   |   |   |   \n",
      " --- --- --- --- ---\n",
      "|   |   |   |   |   |   \n",
      " --- --- --- --- ---\n"
     ]
    }
   ],
   "source": [
    "# Test your solution here\n",
    "game_board(5,4)"
   ]
  },
  {
   "cell_type": "markdown",
   "metadata": {},
   "source": [
    "*Exercise 3:* Modify exercise 2, so that it takes a matrix of the form from exercise 1 and draws a tic-tac-tie board with \"X\"s and \"O\"s.  "
   ]
  },
  {
   "cell_type": "code",
   "execution_count": 11,
   "metadata": {},
   "outputs": [],
   "source": [
    "# Write you solution here\n",
    "def draw_board (board):\n",
    "    \n",
    "    player_1=\"X\"\n",
    "    player_2=\"O\"\n",
    "    m=len(board)\n",
    "    symbols={x:player_1,o:player_2,empty:' '}\n",
    "    print('--- '*m)\n",
    "    \n",
    "    for i in range(m):\n",
    "        print('|',end='')\n",
    "        for j in range(m):\n",
    "            print(f\"{symbols[board[i][j]]} |\",end=' ')\n",
    "        print()\n",
    "        print('--- '*m)\n",
    "        "
   ]
  },
  {
   "cell_type": "code",
   "execution_count": 13,
   "metadata": {},
   "outputs": [
    {
     "name": "stdout",
     "output_type": "stream",
     "text": [
      "--- --- --- \n",
      "|  |   |   | \n",
      "--- --- --- \n",
      "|  |   |   | \n",
      "--- --- --- \n",
      "|  |   |   | \n",
      "--- --- --- \n"
     ]
    }
   ],
   "source": [
    "# Test your solution here\n",
    "draw_board(m)"
   ]
  },
  {
   "cell_type": "markdown",
   "metadata": {},
   "source": [
    "*Exercise 4:* Write a function that takes a `n` by `n` matrix representing a tic-tac-toe game, and returns -1, 0, 1, or 2 indicating the game is incomplete, the game is a draw, player 1 has won, or player 2 has one, respectively. Here are some example inputs you can use to test your code:"
   ]
  },
  {
   "cell_type": "code",
   "execution_count": 28,
   "metadata": {},
   "outputs": [],
   "source": [
    "# Write you solution here\n",
    "def game_rule(board):\n",
    "    m=len(board)\n",
    "    for i in range(m):\n",
    "        if all(row==1 for row in board[i]):\n",
    "            return 1 \n",
    "        elif all(row==2 for row in board[i]):\n",
    "            return 2 \n",
    "            \n",
    "    for j in range(m):\n",
    "        if all(column[j]==1 for column in board):\n",
    "            return 1\n",
    "        elif all(column[j]==2 for column in board):\n",
    "            return 2\n",
    "            \n",
    "    if all(board[i][i]==1 for i in range(m)):\n",
    "        return 1 \n",
    "    elif all(board[i][i]==2 for i in range(m)):\n",
    "        return 2\n",
    "    elif all(board[m-1-i][i]==1 for i in range(m)):\n",
    "        return 1\n",
    "    elif all(board[m-1-i][i]==2 for i in range(m)):\n",
    "        return 2\n",
    "\n",
    "    if any(0 in row for row in board):\n",
    "        return -1\n",
    "\n",
    "    return 0"
   ]
  },
  {
   "cell_type": "code",
   "execution_count": 19,
   "metadata": {},
   "outputs": [
    {
     "data": {
      "text/plain": [
       "2"
      ]
     },
     "execution_count": 19,
     "metadata": {},
     "output_type": "execute_result"
    }
   ],
   "source": [
    "# Test your solution here\n",
    "\n",
    "game_rule(winner_is_2)"
   ]
  },
  {
   "cell_type": "code",
   "execution_count": 17,
   "metadata": {},
   "outputs": [],
   "source": [
    "winner_is_2 = [[2, 2, 0],\n",
    "\t[2, 1, 0],\n",
    "\t[2, 1, 1]]\n",
    "\n",
    "winner_is_1 = [[1, 2, 0],\n",
    "\t[2, 1, 0],\n",
    "\t[2, 1, 1]]\n",
    "\n",
    "winner_is_also_1 = [[0, 1, 0],\n",
    "\t[2, 1, 0],\n",
    "\t[2, 1, 1]]\n",
    "\n",
    "no_winner = [[1, 2, 0],\n",
    "\t[2, 1, 0],\n",
    "\t[2, 1, 2]]\n",
    "\n",
    "also_no_winner = [[1, 2, 0],\n",
    "\t[2, 1, 0],\n",
    "\t[2, 1, 0]]"
   ]
  },
  {
   "cell_type": "markdown",
   "metadata": {},
   "source": [
    "*Exercise 5:* Write a function that takes a game board, player number, and `(x,y)` coordinates and places \"X\" or \"O\" in the correct location of the game board. Make sure that you only allow filling previously empty locations. Return `True` or `False` to indicate successful placement of \"X\" or \"O\"."
   ]
  },
  {
   "cell_type": "code",
   "execution_count": 30,
   "metadata": {},
   "outputs": [],
   "source": [
    "# Write you solution here\n",
    "\n",
    "def message(message,verbose=True):\n",
    "    if verbose:\n",
    "        print(message)\n",
    "\n",
    "def place_on_board(board,player,location,verbose=True):\n",
    "    x,y=location \n",
    "    m=len(board)\n",
    "\n",
    "    place_possible= x<m and x>=0 and y<m and y>=0\n",
    "    \n",
    "    if not place_possible:\n",
    "        message('Spot is off the board',verbose)\n",
    "        return False\n",
    "    \n",
    "    if place_possible and board[x][y]==empty:\n",
    "        board[x][y]=player\n",
    "        message(\"Successful move\",verbose)\n",
    "        return True\n",
    "    else:\n",
    "        message(\"Unsuccessful move. Please try another spot.\",verbose)\n",
    "        return False"
   ]
  },
  {
   "cell_type": "code",
   "execution_count": 23,
   "metadata": {},
   "outputs": [
    {
     "name": "stdout",
     "output_type": "stream",
     "text": [
      "Successful move\n"
     ]
    },
    {
     "data": {
      "text/plain": [
       "True"
      ]
     },
     "execution_count": 23,
     "metadata": {},
     "output_type": "execute_result"
    }
   ],
   "source": [
    "# Test your solution here\n",
    "\n",
    "place_on_board(m,2,(1,2))"
   ]
  },
  {
   "cell_type": "markdown",
   "metadata": {},
   "source": [
    "*Exercise 6:* Modify Exercise 3 to show column and row labels so that players can specify location using \"A2\" or \"C1\"."
   ]
  },
  {
   "cell_type": "code",
   "execution_count": 58,
   "metadata": {},
   "outputs": [],
   "source": [
    "# Write you solution here\n",
    "\n",
    "def draw_nice_board(board):\n",
    "    \n",
    "    m=len(board)\n",
    "    player_1=\"X\"\n",
    "    player_2=\"O\"\n",
    "    symbols={1:player_1,2:player_2,empty:' '}\n",
    "    \n",
    "    row_names=list(\"ABCDEFGHIJKLMNOPQRSTUVWXYZ\")\n",
    "    row_map=dict(zip(row_names,range(m)))\n",
    "    \n",
    "    column_names=list(map(str,range(1,m+1)))\n",
    "    column_map=dict(zip(column_names,range(m)))\n",
    "    \n",
    "    print(\"   \",end=\" \")\n",
    "    for j in range(m):\n",
    "        print(f\"{column_names[j]}  \",end=\" \")\n",
    "    print()\n",
    "    print('   '+'--- '*m)  \n",
    "\n",
    "    for i in range(m):\n",
    "        print(f\"{row_names[i]} |\",end=\" \")\n",
    "        print('',end='')\n",
    "        for j in range(m):\n",
    "            print(f\"{symbols[board[i][j]]} |\",end=' ')\n",
    "        print()\n",
    "        print('   '+'--- '*m)"
   ]
  },
  {
   "cell_type": "code",
   "execution_count": 27,
   "metadata": {},
   "outputs": [
    {
     "name": "stdout",
     "output_type": "stream",
     "text": [
      "    1   2   3   \n",
      "   --- --- --- \n",
      "A |   |   |   | \n",
      "   --- --- --- \n",
      "B |   |   | O | \n",
      "   --- --- --- \n",
      "C |   |   |   | \n",
      "   --- --- --- \n"
     ]
    }
   ],
   "source": [
    "# Test your solution here\n",
    "draw_nice_board(m)"
   ]
  },
  {
   "cell_type": "markdown",
   "metadata": {},
   "source": [
    "*Exercise 7:* Write a function that takes a board, player number, and location specified as in exercise 6 and then calls exercise 5 to correctly modify the board.  "
   ]
  },
  {
   "cell_type": "code",
   "execution_count": 60,
   "metadata": {},
   "outputs": [],
   "source": [
    "# Write you solution here\n",
    "def new_place_board(board,player,location):\n",
    "    \n",
    "    m=len(board)\n",
    "    row_names=list(\"ABCDEFGHIJKLMNOPQRSTUVWXYZ\")\n",
    "    row_map=dict(zip(row_names,range(m)))\n",
    "    \n",
    "    column_names=list(map(str,range(1,m+1)))\n",
    "    column_map=dict(zip(column_names,range(m)))\n",
    "\n",
    "    try: \n",
    "        row=row_map[location[0].upper()]\n",
    "        col=column_map[location[1]]\n",
    "    except Exception as e:\n",
    "        print(\"Invalid location. PLease retry.\")\n",
    "    place_on_board(board,player,(row,col))\n",
    "    draw_nice_board(board)\n"
   ]
  },
  {
   "cell_type": "code",
   "execution_count": 31,
   "metadata": {},
   "outputs": [
    {
     "name": "stdout",
     "output_type": "stream",
     "text": [
      "Successful move\n",
      "    1   2   3   \n",
      "   --- --- --- \n",
      "A |   |   |   | \n",
      "   --- --- --- \n",
      "B |   |   | O | \n",
      "   --- --- --- \n",
      "C | X |   |   | \n",
      "   --- --- --- \n"
     ]
    }
   ],
   "source": [
    "# Test your solution here\n",
    "new_place_board(m,1,'C1')"
   ]
  },
  {
   "cell_type": "markdown",
   "metadata": {},
   "source": [
    "*Exercise 8:* Write a function is called with a board and player number, takes input from the player using python's `input`, and modifies the board using your function from exercise 7. Note that you should keep asking for input until you have gotten a valid input that results in a valid move."
   ]
  },
  {
   "cell_type": "code",
   "execution_count": 62,
   "metadata": {},
   "outputs": [],
   "source": [
    "# Write you solution here\n",
    "\n",
    "def player_interact(board,player):\n",
    "    draw_nice_board(board)\n",
    "    good=False\n",
    "    while not good:\n",
    "        location=input(\"Please pick a location.\")\n",
    "        good=new_place_board(board,player,location)\n",
    "        break"
   ]
  },
  {
   "cell_type": "code",
   "execution_count": 35,
   "metadata": {},
   "outputs": [
    {
     "name": "stdout",
     "output_type": "stream",
     "text": [
      "    1   2   3   \n",
      "   --- --- --- \n",
      "A |   |   |   | \n",
      "   --- --- --- \n",
      "B |   |   | O | \n",
      "   --- --- --- \n",
      "C | X |   |   | \n",
      "   --- --- --- \n"
     ]
    },
    {
     "name": "stdin",
     "output_type": "stream",
     "text": [
      "Please pick a location. B2\n"
     ]
    },
    {
     "name": "stdout",
     "output_type": "stream",
     "text": [
      "Successful move\n",
      "    1   2   3   \n",
      "   --- --- --- \n",
      "A |   |   |   | \n",
      "   --- --- --- \n",
      "B |   | X | O | \n",
      "   --- --- --- \n",
      "C | X |   |   | \n",
      "   --- --- --- \n"
     ]
    }
   ],
   "source": [
    "# Test your solution here\n",
    "player_interact(m,1)"
   ]
  },
  {
   "cell_type": "markdown",
   "metadata": {},
   "source": [
    "*Exercise 9:* Use all of the previous exercises to implement a full tic-tac-toe game, where an appropriate board is drawn, 2 players are repeatedly asked for a location coordinates of where they wish to place a mark, and the game status is checked until a player wins or a draw occurs."
   ]
  },
  {
   "cell_type": "code",
   "execution_count": 64,
   "metadata": {},
   "outputs": [],
   "source": [
    "# Write you solution here\n",
    "\n",
    "def play_Tic_Tac_Toe(n=3):\n",
    "    print(\"Let's play Tic-Tac-Toe!\")\n",
    "    b=matrix(n)\n",
    "    draw_nice_board(b)\n",
    "    player=1\n",
    "    while True:\n",
    "        print(f\"Player {player}'s turn\")\n",
    "        location=input(\"Please pick a location.\")\n",
    "        new_place_board(b,player,location)\n",
    "        if player==1:\n",
    "            player=2\n",
    "        else:\n",
    "            player=1\n",
    "        game_done=game_rule(b)\n",
    "        if game_done==1:\n",
    "            print(\"Player 1 wins!\")\n",
    "            break\n",
    "        elif game_done==2:\n",
    "            print(\"Player 2 wins!\")\n",
    "            break\n",
    "        elif game_done==0:\n",
    "            print(\"It's a tie\")\n",
    "            break"
   ]
  },
  {
   "cell_type": "code",
   "execution_count": 66,
   "metadata": {},
   "outputs": [
    {
     "name": "stdout",
     "output_type": "stream",
     "text": [
      "Let's play Tic-Tac-Toe!\n",
      "    1   2   3   \n",
      "   --- --- --- \n",
      "A |   |   |   | \n",
      "   --- --- --- \n",
      "B |   |   |   | \n",
      "   --- --- --- \n",
      "C |   |   |   | \n",
      "   --- --- --- \n",
      "Player 1's turn\n"
     ]
    },
    {
     "name": "stdin",
     "output_type": "stream",
     "text": [
      "Please pick a location. A1\n"
     ]
    },
    {
     "name": "stdout",
     "output_type": "stream",
     "text": [
      "Successful move\n",
      "    1   2   3   \n",
      "   --- --- --- \n",
      "A | X |   |   | \n",
      "   --- --- --- \n",
      "B |   |   |   | \n",
      "   --- --- --- \n",
      "C |   |   |   | \n",
      "   --- --- --- \n",
      "Player 2's turn\n"
     ]
    },
    {
     "name": "stdin",
     "output_type": "stream",
     "text": [
      "Please pick a location. B2\n"
     ]
    },
    {
     "name": "stdout",
     "output_type": "stream",
     "text": [
      "Successful move\n",
      "    1   2   3   \n",
      "   --- --- --- \n",
      "A | X |   |   | \n",
      "   --- --- --- \n",
      "B |   | O |   | \n",
      "   --- --- --- \n",
      "C |   |   |   | \n",
      "   --- --- --- \n",
      "Player 1's turn\n"
     ]
    },
    {
     "name": "stdin",
     "output_type": "stream",
     "text": [
      "Please pick a location. C3\n"
     ]
    },
    {
     "name": "stdout",
     "output_type": "stream",
     "text": [
      "Successful move\n",
      "    1   2   3   \n",
      "   --- --- --- \n",
      "A | X |   |   | \n",
      "   --- --- --- \n",
      "B |   | O |   | \n",
      "   --- --- --- \n",
      "C |   |   | X | \n",
      "   --- --- --- \n",
      "Player 2's turn\n"
     ]
    },
    {
     "name": "stdin",
     "output_type": "stream",
     "text": [
      "Please pick a location. B1\n"
     ]
    },
    {
     "name": "stdout",
     "output_type": "stream",
     "text": [
      "Successful move\n",
      "    1   2   3   \n",
      "   --- --- --- \n",
      "A | X |   |   | \n",
      "   --- --- --- \n",
      "B | O | O |   | \n",
      "   --- --- --- \n",
      "C |   |   | X | \n",
      "   --- --- --- \n",
      "Player 1's turn\n"
     ]
    },
    {
     "name": "stdin",
     "output_type": "stream",
     "text": [
      "Please pick a location. C2\n"
     ]
    },
    {
     "name": "stdout",
     "output_type": "stream",
     "text": [
      "Successful move\n",
      "    1   2   3   \n",
      "   --- --- --- \n",
      "A | X |   |   | \n",
      "   --- --- --- \n",
      "B | O | O |   | \n",
      "   --- --- --- \n",
      "C |   | X | X | \n",
      "   --- --- --- \n",
      "Player 2's turn\n"
     ]
    },
    {
     "name": "stdin",
     "output_type": "stream",
     "text": [
      "Please pick a location. A3\n"
     ]
    },
    {
     "name": "stdout",
     "output_type": "stream",
     "text": [
      "Successful move\n",
      "    1   2   3   \n",
      "   --- --- --- \n",
      "A | X |   | O | \n",
      "   --- --- --- \n",
      "B | O | O |   | \n",
      "   --- --- --- \n",
      "C |   | X | X | \n",
      "   --- --- --- \n",
      "Player 1's turn\n"
     ]
    },
    {
     "name": "stdin",
     "output_type": "stream",
     "text": [
      "Please pick a location. C1\n"
     ]
    },
    {
     "name": "stdout",
     "output_type": "stream",
     "text": [
      "Successful move\n",
      "    1   2   3   \n",
      "   --- --- --- \n",
      "A | X |   | O | \n",
      "   --- --- --- \n",
      "B | O | O |   | \n",
      "   --- --- --- \n",
      "C | X | X | X | \n",
      "   --- --- --- \n",
      "Player 1 wins!\n"
     ]
    }
   ],
   "source": [
    "# Test your solution here\n",
    "\n",
    "play_Tic_Tac_Toe()"
   ]
  },
  {
   "cell_type": "markdown",
   "metadata": {},
   "source": [
    "*Exercise 10:* Test that your game works for 5x5 Tic Tac Toe.  "
   ]
  },
  {
   "cell_type": "code",
   "execution_count": null,
   "metadata": {},
   "outputs": [
    {
     "name": "stdout",
     "output_type": "stream",
     "text": [
      "Let's play Tic-Tac-Toe!\n",
      "    1   2   3   4   5   \n",
      "   --- --- --- --- --- \n",
      "A |   |   |   |   |   | \n",
      "   --- --- --- --- --- \n",
      "B |   |   |   |   |   | \n",
      "   --- --- --- --- --- \n",
      "C |   |   |   |   |   | \n",
      "   --- --- --- --- --- \n",
      "D |   |   |   |   |   | \n",
      "   --- --- --- --- --- \n",
      "E |   |   |   |   |   | \n",
      "   --- --- --- --- --- \n",
      "Player 1's turn\n"
     ]
    },
    {
     "name": "stdin",
     "output_type": "stream",
     "text": [
      "Please pick a location. A1\n"
     ]
    },
    {
     "name": "stdout",
     "output_type": "stream",
     "text": [
      "Successful move\n",
      "    1   2   3   4   5   \n",
      "   --- --- --- --- --- \n",
      "A | X |   |   |   |   | \n",
      "   --- --- --- --- --- \n",
      "B |   |   |   |   |   | \n",
      "   --- --- --- --- --- \n",
      "C |   |   |   |   |   | \n",
      "   --- --- --- --- --- \n",
      "D |   |   |   |   |   | \n",
      "   --- --- --- --- --- \n",
      "E |   |   |   |   |   | \n",
      "   --- --- --- --- --- \n",
      "Player 2's turn\n"
     ]
    },
    {
     "name": "stdin",
     "output_type": "stream",
     "text": [
      "Please pick a location. B2\n"
     ]
    },
    {
     "name": "stdout",
     "output_type": "stream",
     "text": [
      "Successful move\n",
      "    1   2   3   4   5   \n",
      "   --- --- --- --- --- \n",
      "A | X |   |   |   |   | \n",
      "   --- --- --- --- --- \n",
      "B |   | O |   |   |   | \n",
      "   --- --- --- --- --- \n",
      "C |   |   |   |   |   | \n",
      "   --- --- --- --- --- \n",
      "D |   |   |   |   |   | \n",
      "   --- --- --- --- --- \n",
      "E |   |   |   |   |   | \n",
      "   --- --- --- --- --- \n",
      "Player 1's turn\n"
     ]
    },
    {
     "name": "stdin",
     "output_type": "stream",
     "text": [
      "Please pick a location. C3\n"
     ]
    },
    {
     "name": "stdout",
     "output_type": "stream",
     "text": [
      "Successful move\n",
      "    1   2   3   4   5   \n",
      "   --- --- --- --- --- \n",
      "A | X |   |   |   |   | \n",
      "   --- --- --- --- --- \n",
      "B |   | O |   |   |   | \n",
      "   --- --- --- --- --- \n",
      "C |   |   | X |   |   | \n",
      "   --- --- --- --- --- \n",
      "D |   |   |   |   |   | \n",
      "   --- --- --- --- --- \n",
      "E |   |   |   |   |   | \n",
      "   --- --- --- --- --- \n",
      "Player 2's turn\n"
     ]
    },
    {
     "name": "stdin",
     "output_type": "stream",
     "text": [
      "Please pick a location. D4\n"
     ]
    },
    {
     "name": "stdout",
     "output_type": "stream",
     "text": [
      "Successful move\n",
      "    1   2   3   4   5   \n",
      "   --- --- --- --- --- \n",
      "A | X |   |   |   |   | \n",
      "   --- --- --- --- --- \n",
      "B |   | O |   |   |   | \n",
      "   --- --- --- --- --- \n",
      "C |   |   | X |   |   | \n",
      "   --- --- --- --- --- \n",
      "D |   |   |   | O |   | \n",
      "   --- --- --- --- --- \n",
      "E |   |   |   |   |   | \n",
      "   --- --- --- --- --- \n",
      "Player 1's turn\n"
     ]
    },
    {
     "name": "stdin",
     "output_type": "stream",
     "text": [
      "Please pick a location. E5\n"
     ]
    },
    {
     "name": "stdout",
     "output_type": "stream",
     "text": [
      "Successful move\n",
      "    1   2   3   4   5   \n",
      "   --- --- --- --- --- \n",
      "A | X |   |   |   |   | \n",
      "   --- --- --- --- --- \n",
      "B |   | O |   |   |   | \n",
      "   --- --- --- --- --- \n",
      "C |   |   | X |   |   | \n",
      "   --- --- --- --- --- \n",
      "D |   |   |   | O |   | \n",
      "   --- --- --- --- --- \n",
      "E |   |   |   |   | X | \n",
      "   --- --- --- --- --- \n",
      "Player 2's turn\n"
     ]
    },
    {
     "name": "stdin",
     "output_type": "stream",
     "text": [
      "Please pick a location. D2\n"
     ]
    },
    {
     "name": "stdout",
     "output_type": "stream",
     "text": [
      "Successful move\n",
      "    1   2   3   4   5   \n",
      "   --- --- --- --- --- \n",
      "A | X |   |   |   |   | \n",
      "   --- --- --- --- --- \n",
      "B |   | O |   |   |   | \n",
      "   --- --- --- --- --- \n",
      "C |   |   | X |   |   | \n",
      "   --- --- --- --- --- \n",
      "D |   | O |   | O |   | \n",
      "   --- --- --- --- --- \n",
      "E |   |   |   |   | X | \n",
      "   --- --- --- --- --- \n",
      "Player 1's turn\n"
     ]
    },
    {
     "name": "stdin",
     "output_type": "stream",
     "text": [
      "Please pick a location. B3\n"
     ]
    },
    {
     "name": "stdout",
     "output_type": "stream",
     "text": [
      "Successful move\n",
      "    1   2   3   4   5   \n",
      "   --- --- --- --- --- \n",
      "A | X |   |   |   |   | \n",
      "   --- --- --- --- --- \n",
      "B |   | O | X |   |   | \n",
      "   --- --- --- --- --- \n",
      "C |   |   | X |   |   | \n",
      "   --- --- --- --- --- \n",
      "D |   | O |   | O |   | \n",
      "   --- --- --- --- --- \n",
      "E |   |   |   |   | X | \n",
      "   --- --- --- --- --- \n",
      "Player 2's turn\n"
     ]
    },
    {
     "name": "stdin",
     "output_type": "stream",
     "text": [
      "Please pick a location. A3\n"
     ]
    },
    {
     "name": "stdout",
     "output_type": "stream",
     "text": [
      "Successful move\n",
      "    1   2   3   4   5   \n",
      "   --- --- --- --- --- \n",
      "A | X |   | O |   |   | \n",
      "   --- --- --- --- --- \n",
      "B |   | O | X |   |   | \n",
      "   --- --- --- --- --- \n",
      "C |   |   | X |   |   | \n",
      "   --- --- --- --- --- \n",
      "D |   | O |   | O |   | \n",
      "   --- --- --- --- --- \n",
      "E |   |   |   |   | X | \n",
      "   --- --- --- --- --- \n",
      "Player 1's turn\n"
     ]
    },
    {
     "name": "stdin",
     "output_type": "stream",
     "text": [
      "Please pick a location. E1\n"
     ]
    },
    {
     "name": "stdout",
     "output_type": "stream",
     "text": [
      "Successful move\n",
      "    1   2   3   4   5   \n",
      "   --- --- --- --- --- \n",
      "A | X |   | O |   |   | \n",
      "   --- --- --- --- --- \n",
      "B |   | O | X |   |   | \n",
      "   --- --- --- --- --- \n",
      "C |   |   | X |   |   | \n",
      "   --- --- --- --- --- \n",
      "D |   | O |   | O |   | \n",
      "   --- --- --- --- --- \n",
      "E | X |   |   |   | X | \n",
      "   --- --- --- --- --- \n",
      "Player 2's turn\n"
     ]
    }
   ],
   "source": [
    "# Test your solution here\n",
    "\n",
    "play_Tic_Tac_Toe(5)"
   ]
  },
  {
   "cell_type": "markdown",
   "metadata": {},
   "source": [
    "*Exercise 11:* (Advanced / Challenge) Develop a version of the game where one player is the computer. Note that you don't need to do an extensive seach for the best move. You can have the computer simply protect against loosing and otherwise try to win with straight or diagonal patterns."
   ]
  },
  {
   "cell_type": "code",
   "execution_count": 115,
   "metadata": {},
   "outputs": [],
   "source": [
    "# New codes needed \n",
    "\n",
    "def switch(player):\n",
    "  if player==1:\n",
    "      player=2\n",
    "  else:\n",
    "      player=1\n",
    "  return player\n",
    "\n",
    "def scoring(board,player):\n",
    "  game_done=game_rule(board)\n",
    "  if game_done==player:\n",
    "      return 10  \n",
    "  elif game_done==switch(player):\n",
    "      return -10 \n",
    "  elif game_done==0:\n",
    "      return 0  \n",
    "  return 0 \n",
    "\n",
    "\n",
    "import copy\n",
    "\n",
    "def generate_move(board, player, current_player, depth, keep_all_moves=False):\n",
    "    if depth == 0:\n",
    "        return list(), game_rule(board)\n",
    "\n",
    "    moves = []\n",
    "    scores = []\n",
    "    m = len(board)\n",
    "\n",
    "    for i in range(m):\n",
    "        for j in range(m):\n",
    "            if board[i][j] == 0:  # Check if spot is empty\n",
    "                new_board = copy.deepcopy(board)\n",
    "                if place_on_board_no_msg(new_board, current_player, (i, j)):  # Ensure this function is correct\n",
    "                    next_move, score = generate_move(\n",
    "                        new_board, player, switch(current_player), depth - 1, keep_all_moves=keep_all_moves)\n",
    "                    this_move = [(current_player, (i, j))]\n",
    "                    if keep_all_moves:\n",
    "                        this_move.extend(next_move)\n",
    "                    moves.append(this_move)\n",
    "                    scores.append(score)\n",
    "    return moves,scores\n",
    "\n",
    "\n",
    "def tree_search(t, depth=1):\n",
    "    if t and isinstance(t[0], list):  \n",
    "        return sum([tree_search(item, depth + 1) / depth for item in t])\n",
    "    else:\n",
    "        if t:  \n",
    "            return max(t) + min(t) \n",
    "        else:\n",
    "            return 0\n",
    "\n",
    "def pick_move(board,player,depth=5,func=max):\n",
    "    moves,scores=generate_move(board,player,player,depth)\n",
    "    result=list(map(tree_search,scores))\n",
    "    move_index=result.index(func(result))\n",
    "    return moves[move_index][0]\n"
   ]
  },
  {
   "cell_type": "code",
   "execution_count": 117,
   "metadata": {},
   "outputs": [],
   "source": [
    "# Some old codes I needed to modify\n",
    "\n",
    "def place_on_board_no_msg(board,player,location):\n",
    "    empty=0\n",
    "    x,y=location\n",
    "    m=len(board)\n",
    "\n",
    "    place_possible= x<m and x>=0 and y<m and y>=0\n",
    "\n",
    "    if not place_possible:\n",
    "        return False\n",
    "\n",
    "    if place_possible and board[x][y]==empty:\n",
    "        board[x][y]=\"X\" if player==1 else \"O\"\n",
    "        return True\n",
    "    else:\n",
    "        return False\n",
    "\n",
    "\n",
    "def fool_proof_draw_nice_board(board):\n",
    "    m=len(board)\n",
    "    player_1=\"X\"\n",
    "    player_2=\"O\"\n",
    "    symbols={1:player_1,2:player_2,0:' '} \n",
    "    \n",
    "    row_names=list(\"ABCDEFGHIJKLMNOPQRSTUVWXYZ\")\n",
    "    row_map=dict(zip(row_names,range(m)))\n",
    "\n",
    "    column_names=list(map(str,range(1,m+1)))\n",
    "    column_map=dict(zip(column_names,range(m)))\n",
    "\n",
    "    print(\"   \",end=\" \")\n",
    "    for j in range(m):\n",
    "        print(f\"{column_names[j]}  \",end=\" \")\n",
    "    print()\n",
    "    print('   '+'--- '*m)\n",
    "\n",
    "    for i in range(m):\n",
    "        print(f\"{row_names[i]} |\",end=\" \")\n",
    "        print('',end='')\n",
    "        for j in range(m): \n",
    "            value = board[i][j]\n",
    "            print_value = symbols.get(value)\n",
    "            if print_value is None:\n",
    "                if value == \"X\":\n",
    "                    print_value = value \n",
    "                elif value == \"O\":\n",
    "                    print_value = value \n",
    "                else:\n",
    "                    print_value = \" \"\n",
    "            \n",
    "            print(f\"{print_value} |\",end=' ') \n",
    "            \n",
    "        print()\n",
    "        print('   '+'--- '*m)\n",
    "\n",
    "\n",
    "\n",
    "def new_placer(board,player,location):\n",
    "    \n",
    "    m=len(board)\n",
    "    row_names=list(\"ABCDEFGHIJKLMNOPQRSTUVWXYZ\")\n",
    "    row_map=dict(zip(row_names,range(m)))\n",
    "    \n",
    "    column_names=list(map(str,range(1,m+1)))\n",
    "    column_map=dict(zip(column_names,range(m)))\n",
    "    \n",
    "    try: \n",
    "        row=row_map[location[0].upper()]\n",
    "        col=column_map[location[1]]\n",
    "    except Exception as e:\n",
    "        print(\"Invalid location. PLease retry.\")\n",
    "    place_on_board(board,player,(row,col))\n",
    "    fool_proof_draw_nice_board(board)\n",
    "        "
   ]
  },
  {
   "cell_type": "code",
   "execution_count": 119,
   "metadata": {},
   "outputs": [],
   "source": [
    "#Solution\n",
    "\n",
    "def AI_TTT(n=3,depth=7):\n",
    "    print(\"Let's play Tic-Tac-Toe!\")\n",
    "    b = matrix(n)\n",
    "    fool_proof_draw_nice_board(b)\n",
    "    player=1\n",
    "\n",
    "    while True:\n",
    "      if player==1:\n",
    "        print(\"Player\",player,\"turn\")\n",
    "        location=input(\"Please pick a location.\")\n",
    "        new_placer(b,player,location)\n",
    "        fool_proof_draw_nice_board(b)\n",
    "      else:\n",
    "        print(\"Computer turn\")\n",
    "        the_move=pick_move(b,player,depth=depth)\n",
    "        place_on_board_no_msg(b,*the_move)\n",
    "        fool_proof_draw_nice_board(b)\n",
    "      \n",
    "      game_done=game_rule(b)\n",
    "      player=switch(player)\n",
    "      scoring(b,player)\n",
    "    \n",
    "      if game_done == 1:\n",
    "          print(\"Player wins!\")\n",
    "          break\n",
    "      elif game_done == 2:\n",
    "          print(\"Computer wins!\")\n",
    "          break"
   ]
  },
  {
   "cell_type": "code",
   "execution_count": 121,
   "metadata": {},
   "outputs": [
    {
     "name": "stdout",
     "output_type": "stream",
     "text": [
      "Let's play Tic-Tac-Toe!\n",
      "    1   2   3   \n",
      "   --- --- --- \n",
      "A |   |   |   | \n",
      "   --- --- --- \n",
      "B |   |   |   | \n",
      "   --- --- --- \n",
      "C |   |   |   | \n",
      "   --- --- --- \n",
      "Player 1 turn\n"
     ]
    },
    {
     "name": "stdin",
     "output_type": "stream",
     "text": [
      "Please pick a location. A1\n"
     ]
    },
    {
     "name": "stdout",
     "output_type": "stream",
     "text": [
      "Successful move\n",
      "    1   2   3   \n",
      "   --- --- --- \n",
      "A | X |   |   | \n",
      "   --- --- --- \n",
      "B |   |   |   | \n",
      "   --- --- --- \n",
      "C |   |   |   | \n",
      "   --- --- --- \n",
      "    1   2   3   \n",
      "   --- --- --- \n",
      "A | X |   |   | \n",
      "   --- --- --- \n",
      "B |   |   |   | \n",
      "   --- --- --- \n",
      "C |   |   |   | \n",
      "   --- --- --- \n",
      "Computer turn\n",
      "    1   2   3   \n",
      "   --- --- --- \n",
      "A | X | O |   | \n",
      "   --- --- --- \n",
      "B |   |   |   | \n",
      "   --- --- --- \n",
      "C |   |   |   | \n",
      "   --- --- --- \n",
      "Player 1 turn\n"
     ]
    },
    {
     "name": "stdin",
     "output_type": "stream",
     "text": [
      "Please pick a location. B2\n"
     ]
    },
    {
     "name": "stdout",
     "output_type": "stream",
     "text": [
      "Successful move\n",
      "    1   2   3   \n",
      "   --- --- --- \n",
      "A | X | O |   | \n",
      "   --- --- --- \n",
      "B |   | X |   | \n",
      "   --- --- --- \n",
      "C |   |   |   | \n",
      "   --- --- --- \n",
      "    1   2   3   \n",
      "   --- --- --- \n",
      "A | X | O |   | \n",
      "   --- --- --- \n",
      "B |   | X |   | \n",
      "   --- --- --- \n",
      "C |   |   |   | \n",
      "   --- --- --- \n",
      "Computer turn\n",
      "    1   2   3   \n",
      "   --- --- --- \n",
      "A | X | O | O | \n",
      "   --- --- --- \n",
      "B |   | X |   | \n",
      "   --- --- --- \n",
      "C |   |   |   | \n",
      "   --- --- --- \n",
      "Player 1 turn\n"
     ]
    },
    {
     "name": "stdin",
     "output_type": "stream",
     "text": [
      "Please pick a location. C3\n"
     ]
    },
    {
     "name": "stdout",
     "output_type": "stream",
     "text": [
      "Successful move\n",
      "    1   2   3   \n",
      "   --- --- --- \n",
      "A | X | O | O | \n",
      "   --- --- --- \n",
      "B |   | X |   | \n",
      "   --- --- --- \n",
      "C |   |   | X | \n",
      "   --- --- --- \n",
      "    1   2   3   \n",
      "   --- --- --- \n",
      "A | X | O | O | \n",
      "   --- --- --- \n",
      "B |   | X |   | \n",
      "   --- --- --- \n",
      "C |   |   | X | \n",
      "   --- --- --- \n",
      "Player wins!\n"
     ]
    }
   ],
   "source": [
    "AI_TTT()"
   ]
  },
  {
   "cell_type": "code",
   "execution_count": null,
   "metadata": {},
   "outputs": [],
   "source": []
  },
  {
   "cell_type": "code",
   "execution_count": null,
   "metadata": {},
   "outputs": [],
   "source": []
  }
 ],
 "metadata": {
  "kernelspec": {
   "display_name": "Python 3 (ipykernel)",
   "language": "python",
   "name": "python3"
  },
  "language_info": {
   "codemirror_mode": {
    "name": "ipython",
    "version": 3
   },
   "file_extension": ".py",
   "mimetype": "text/x-python",
   "name": "python",
   "nbconvert_exporter": "python",
   "pygments_lexer": "ipython3",
   "version": "3.12.4"
  }
 },
 "nbformat": 4,
 "nbformat_minor": 4
}
