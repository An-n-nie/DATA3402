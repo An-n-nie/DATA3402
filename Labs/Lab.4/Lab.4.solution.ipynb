{
 "cells": [
  {
   "cell_type": "markdown",
   "metadata": {},
   "source": [
    "# Lab 4- Object Oriented Programming\n",
    "\n",
    "For all of the exercises below, make sure you provide tests of your solutions.\n"
   ]
  },
  {
   "cell_type": "markdown",
   "metadata": {},
   "source": [
    "1. Write a \"counter\" class that can be incremented up to a specified maximum value, will print an error if an attempt is made to increment beyond that value, and allows reseting the counter. "
   ]
  },
  {
   "cell_type": "code",
   "execution_count": 465,
   "metadata": {},
   "outputs": [],
   "source": [
    "class Counter:\n",
    "    def __init__(self,max_count):\n",
    "        self.current_count=0\n",
    "        self.max_count=max_count\n",
    "\n",
    "    def count(self):\n",
    "        if self.current_count <= self.max_count:\n",
    "            self.current_count +=1\n",
    "            print(self.current_count)\n",
    "        else:\n",
    "            print(\"Max count reached\")\n",
    "\n",
    "    def reset_count(self):\n",
    "        self.current_count=0\n",
    "        return \"Count reset\""
   ]
  },
  {
   "cell_type": "code",
   "execution_count": 467,
   "metadata": {},
   "outputs": [
    {
     "name": "stdout",
     "output_type": "stream",
     "text": [
      "1\n",
      "2\n"
     ]
    }
   ],
   "source": [
    "c=Counter(10)\n",
    "c.count()\n",
    "c.count()"
   ]
  },
  {
   "cell_type": "markdown",
   "metadata": {},
   "source": [
    "2. Copy and paste your solution to question 1 and modify it so that all the data held by the counter is private. Implement functions to check the value of the counter, check the maximum value, and check if the counter is at the maximum."
   ]
  },
  {
   "cell_type": "code",
   "execution_count": 469,
   "metadata": {},
   "outputs": [],
   "source": [
    "class Counter:\n",
    "    def __init__(self,max_count):\n",
    "        # make members private\n",
    "        self.__current_count=0\n",
    "        self.__max_count=max_count\n",
    "\n",
    "    def count(self):\n",
    "        if self.__current_count <= self.__max_count:\n",
    "            self.__current_count +=1\n",
    "            print(self.__current_count)\n",
    "        else:\n",
    "            print(\"Max count reached\")\n",
    "\n",
    "    def reset_count(self):\n",
    "        self.__current_count=0\n",
    "        return \"Count reset\"\n",
    "\n",
    "    def check_counter_value(self):\n",
    "        return self.__current_count\n",
    "\n",
    "    def counter_at_max(self):\n",
    "        if self.__current_count == self.__max_count:\n",
    "            return True\n",
    "        else:\n",
    "            return False\n",
    "        \n",
    "    def max_value(self):\n",
    "        return self.__max_count\n",
    "        "
   ]
  },
  {
   "cell_type": "code",
   "execution_count": 471,
   "metadata": {},
   "outputs": [
    {
     "name": "stdout",
     "output_type": "stream",
     "text": [
      "1\n",
      "2\n",
      "3\n"
     ]
    }
   ],
   "source": [
    "g=Counter(9)\n",
    "g.count()\n",
    "g.count()\n",
    "g.count()"
   ]
  },
  {
   "cell_type": "code",
   "execution_count": 473,
   "metadata": {},
   "outputs": [
    {
     "data": {
      "text/plain": [
       "False"
      ]
     },
     "execution_count": 473,
     "metadata": {},
     "output_type": "execute_result"
    }
   ],
   "source": [
    "g.counter_at_max()"
   ]
  },
  {
   "cell_type": "code",
   "execution_count": 475,
   "metadata": {},
   "outputs": [
    {
     "data": {
      "text/plain": [
       "3"
      ]
     },
     "execution_count": 475,
     "metadata": {},
     "output_type": "execute_result"
    }
   ],
   "source": [
    "g.check_counter_value()"
   ]
  },
  {
   "cell_type": "code",
   "execution_count": 477,
   "metadata": {},
   "outputs": [
    {
     "data": {
      "text/plain": [
       "9"
      ]
     },
     "execution_count": 477,
     "metadata": {},
     "output_type": "execute_result"
    }
   ],
   "source": [
    "g.max_value()"
   ]
  },
  {
   "cell_type": "code",
   "execution_count": 479,
   "metadata": {},
   "outputs": [
    {
     "ename": "AttributeError",
     "evalue": "'Counter' object has no attribute '__max_value'",
     "output_type": "error",
     "traceback": [
      "\u001b[0;31m---------------------------------------------------------------------------\u001b[0m",
      "\u001b[0;31mAttributeError\u001b[0m                            Traceback (most recent call last)",
      "Cell \u001b[0;32mIn[479], line 1\u001b[0m\n\u001b[0;32m----> 1\u001b[0m \u001b[38;5;28mprint\u001b[39m(g\u001b[38;5;241m.\u001b[39m__max_value)\n",
      "\u001b[0;31mAttributeError\u001b[0m: 'Counter' object has no attribute '__max_value'"
     ]
    }
   ],
   "source": [
    "print(g.__max_value) #should get error"
   ]
  },
  {
   "cell_type": "markdown",
   "metadata": {},
   "source": [
    "3. Implement a class to represent a rectangle, holding the length, width, and $x$ and $y$ coordinates of a corner of the object. Implement functions that compute the area and perimeter of the rectangle. Make all data members private and privide accessors to retrieve values of data members. "
   ]
  },
  {
   "cell_type": "code",
   "execution_count": 481,
   "metadata": {},
   "outputs": [],
   "source": [
    "class Rectangle:\n",
    "    def __init__(self,length,width,x,y):\n",
    "        self.__length=length\n",
    "        self.__width=width\n",
    "        self.__x=x\n",
    "        self.__y=y\n",
    "\n",
    "    def area(self):\n",
    "        return self.__length*self.__width \n",
    "\n",
    "    def perimeter(self):\n",
    "        return 2*(self.__length+self.__width)\n",
    "\n",
    "    def get_length(self):\n",
    "        return self.__length\n",
    "\n",
    "    def get_width(self):\n",
    "        return self.__width\n",
    "\n",
    "    def get_x(self):\n",
    "        return self.__x\n",
    "\n",
    "    def get_y(self):\n",
    "        return self.__y"
   ]
  },
  {
   "cell_type": "code",
   "execution_count": 483,
   "metadata": {},
   "outputs": [
    {
     "name": "stdout",
     "output_type": "stream",
     "text": [
      "Area: 15\n",
      "Perimeter: 16\n",
      "Length: 3\n",
      "Width: 5\n",
      "X: 2\n",
      "Y: 2\n"
     ]
    }
   ],
   "source": [
    "r=Rectangle(3,5,2,2)\n",
    "print(\"Area:\", r.area())\n",
    "print(\"Perimeter:\", r.perimeter())\n",
    "print(\"Length:\", r.get_length())\n",
    "print(\"Width:\",r.get_width())\n",
    "print(\"X:\",r.get_x())\n",
    "print(\"Y:\",r.get_y())"
   ]
  },
  {
   "cell_type": "markdown",
   "metadata": {},
   "source": [
    "4. Implement a class to represent a circle, holding the radius and $x$ and $y$ coordinates of center of the object. Implement functions that compute the area and perimeter of the rectangle. Make all data members private and privide accessors to retrieve values of data members. "
   ]
  },
  {
   "cell_type": "code",
   "execution_count": 485,
   "metadata": {},
   "outputs": [],
   "source": [
    "import math\n",
    "class Circle:\n",
    "    def __init__(self, radius, x, y):\n",
    "        self.__radius=radius\n",
    "        self.__x=x\n",
    "        self.__y=y\n",
    "\n",
    "    def area(self):\n",
    "        return self.__radius**2*math.pi\n",
    "        \n",
    "    def perimeter(self):\n",
    "        return self.__radius*2*math.pi\n",
    "\n",
    "    def get_radius(self):\n",
    "        return self.__radius\n",
    "\n",
    "    def get_x(self):\n",
    "        return self.__x\n",
    "\n",
    "    def get_y(self):\n",
    "        return self.__y"
   ]
  },
  {
   "cell_type": "code",
   "execution_count": 487,
   "metadata": {},
   "outputs": [
    {
     "name": "stdout",
     "output_type": "stream",
     "text": [
      "Area: 50.26548245743669\n",
      "Perimeter: 25.132741228718345\n",
      "Radius: 4\n",
      "X: 3\n",
      "Y: 1\n"
     ]
    }
   ],
   "source": [
    "c=Circle(4,3,1)\n",
    "print(\"Area:\", c.area())\n",
    "print(\"Perimeter:\", c.perimeter())\n",
    "print(\"Radius:\", c.get_radius())\n",
    "print(\"X:\",c.get_x())\n",
    "print(\"Y:\", c.get_y())"
   ]
  },
  {
   "cell_type": "markdown",
   "metadata": {},
   "source": [
    "5. Implement a common base class for the classes implemented in 3 and 4 above which implements all common methods as not implemented functions (virtual). Re-implement your regtangle and circule classes to inherit from the base class and overload the functions accordingly. "
   ]
  },
  {
   "cell_type": "markdown",
   "metadata": {},
   "source": [
    "6. Implement a triangle class analogous to the rectangle and circle in question 5."
   ]
  },
  {
   "cell_type": "code",
   "execution_count": 4,
   "metadata": {},
   "outputs": [],
   "source": [
    "class Shape:\n",
    "    def __init__(self,x,y):\n",
    "        self.x=x\n",
    "        self.y=y\n",
    "\n",
    "    def get_x(self):\n",
    "        return self.x\n",
    "\n",
    "    def get_y(self):\n",
    "        return self.y\n",
    "\n",
    "    def area(self):\n",
    "        pass\n",
    "\n",
    "    def perimeter(self):\n",
    "        pass\n",
    "\n",
    "class Rectangle(Shape):\n",
    "    def __init__(self,length,width,x,y):\n",
    "        super().__init__(x,y)\n",
    "        self.__length=length\n",
    "        self.__width=width\n",
    "        self.__x=x\n",
    "        self.__y=y\n",
    "\n",
    "    def area(self):\n",
    "        return self.__length*self.__width \n",
    "\n",
    "    def perimeter(self):\n",
    "        return 2*(self.__length+self.__width)\n",
    "\n",
    "    def get_length(self):\n",
    "        return self.__length\n",
    "\n",
    "    def get_width(self):\n",
    "        return self.__width\n",
    "\n",
    "    def get_x(self):\n",
    "        return self.__x\n",
    "\n",
    "    def get_y(self):\n",
    "        return self.__y\n",
    "        \n",
    "\n",
    "class Circle(Shape):\n",
    "    def __init__(self, radius, x, y):\n",
    "        super().__init__(x,y)\n",
    "        self.__radius=radius\n",
    "        self.__x=x\n",
    "        self.__y=y\n",
    "\n",
    "    def area(self):\n",
    "        return self.__radius**2*math.pi\n",
    "        \n",
    "    def perimeter(self):\n",
    "        return self.__radius*2*math.pi\n",
    "\n",
    "    def get_radius(self):\n",
    "        return self.__radius\n",
    "\n",
    "    def get_x(self):\n",
    "        return self.__x\n",
    "\n",
    "    def get_y(self):\n",
    "        return self.__y\n",
    "\n",
    "\n",
    "class Triangle(Shape):\n",
    "    def __init__(self,side1,side2,side3,x,y):\n",
    "        super().__init__(x,y)\n",
    "        self.__side1=side1\n",
    "        self.__side2=side2\n",
    "        self.__side3=side3\n",
    "        self.__x=x\n",
    "        self.__y=y\n",
    "\n",
    "    def area(self): # uses Heron's formula to find area \n",
    "        s=(self.__side1+self.__side2+self.__side3)/2\n",
    "        return math.sqrt(s*(s-self.__side1)*(s-self.__side2)*(s-self.__side3))\n",
    "    \n",
    "    def perimeter(self):\n",
    "        return self.__side1+self.__side2+self.__side3\n",
    "\n",
    "    def get_x(self):\n",
    "        return self.__x\n",
    "        \n",
    "    def get_y(self):\n",
    "        return self.__y\n",
    "\n",
    "    def get_side_lengths(self):\n",
    "        return self.__side1, self.__side2, self.__side3"
   ]
  },
  {
   "cell_type": "code",
   "execution_count": 491,
   "metadata": {},
   "outputs": [
    {
     "name": "stdout",
     "output_type": "stream",
     "text": [
      "Area: 28.274333882308138\n",
      "Perimeter: 18.84955592153876\n",
      "Area: 15\n",
      "Perimeter: 16\n",
      "Area: 6.0\n",
      "Perimeter: 12\n",
      "X: 1\n",
      "Y: 1\n",
      "Side: (3, 4, 5)\n"
     ]
    }
   ],
   "source": [
    "#Testing area and perimeter\n",
    "\n",
    "c=Circle(3,3,1)\n",
    "print(\"Area:\", c.area())\n",
    "print(\"Perimeter:\", c.perimeter())\n",
    "\n",
    "r=Rectangle(3,5,2,2)\n",
    "print(\"Area:\", r.area())\n",
    "print(\"Perimeter:\", r.perimeter())\n",
    "\n",
    "t=Triangle(3,4,5,1,1)\n",
    "print(\"Area:\", t.area())\n",
    "print(\"Perimeter:\", t.perimeter())\n",
    "print(\"X:\",t.get_x())\n",
    "print(\"Y:\", t.get_y())\n",
    "print(\"Side:\", t.get_side_lengths())"
   ]
  },
  {
   "cell_type": "markdown",
   "metadata": {},
   "source": [
    "7. Add a function to the object classes, including the base, that returns a list of up to 16 pairs of  $x$ and $y$ points on the parameter of the object. "
   ]
  },
  {
   "cell_type": "markdown",
   "metadata": {},
   "source": [
    "8. Add a function to the object classes, including the base, that tests if a given set of $x$ and $y$ coordinates are inside of the object. You'll have to think through how to determine if a set of coordinates are inside an object for each object type."
   ]
  },
  {
   "cell_type": "markdown",
   "metadata": {},
   "source": [
    "9. Add a function in the base class of the object classes that returns true/false testing that the object overlaps with another object."
   ]
  },
  {
   "cell_type": "code",
   "execution_count": 493,
   "metadata": {},
   "outputs": [],
   "source": [
    "#complete set of shapes with all functions required for the rest of the lab\n",
    "\n",
    "class Shape:\n",
    "    def __init__(self,x,y):\n",
    "        self.x=x\n",
    "        self.y=y\n",
    "        self.name=\"\"\n",
    "        \n",
    "    def get_x(self):\n",
    "        return self.x\n",
    "\n",
    "    def get_y(self):\n",
    "        return self.y\n",
    "\n",
    "    def area(self):\n",
    "        pass\n",
    "\n",
    "    def perimeter(self):\n",
    "        pass\n",
    "\n",
    "    def parameter_points(self):\n",
    "        pass\n",
    "\n",
    "    def is_inside(self,x,y):\n",
    "        pass\n",
    "\n",
    "    def overlap(self,other):\n",
    "        #use parameter points to see if any point from a shape is in another shape\n",
    "        self_part=self.parameter_points()\n",
    "        other_part=other.parameter_points()\n",
    "        \n",
    "        for x,y in self_part:\n",
    "            if other.is_inside(x,y):\n",
    "                return True\n",
    "\n",
    "        for x,y in other_part:\n",
    "            if self.is_inside(x,y):\n",
    "                return True\n",
    "        return False\n",
    "\n",
    "    def paint(self,canvas):\n",
    "        pass\n",
    "\n",
    "\n",
    "class Rectangle(Shape):\n",
    "    def __init__(self,length,width,x,y):\n",
    "        super().__init__(x,y)\n",
    "        self.__length=length\n",
    "        self.__width=width\n",
    "        self.__x=x\n",
    "        self.__y=y\n",
    "\n",
    "    def area(self):\n",
    "        return self.__length*self.__width \n",
    "\n",
    "    def perimeter(self):\n",
    "        return 2*(self.__length+self.__width)\n",
    "\n",
    "    def get_length(self):\n",
    "        return self.__length\n",
    "\n",
    "    def get_width(self):\n",
    "        return self.__width\n",
    "\n",
    "    def get_x(self):\n",
    "        return self.__x\n",
    "\n",
    "    def get_y(self):\n",
    "        return self.__y\n",
    "\n",
    "    def parameter_points(self):\n",
    "        points=list()\n",
    "        points.append((self.__x,self.__y)) # could be, bottom left corner\n",
    "        points.append((self.__x+self.__length,self.__y)) #bottom right corner\n",
    "        points.append((self.__x+self.__length,self.__y+self.__width)) #top right corner\n",
    "        points.append((self.__x,self.__y+self.__width)) # top left corner\n",
    "        return points \n",
    "\n",
    "    def is_inside(self,x,y): \n",
    "        # point is inside if it's within x length and y length\n",
    "        return self.__x <= x <= self.__x+self.__length and self.__y<= y <=self.__y+self.__width\n",
    "\n",
    "    def paint(self,canvas):\n",
    "        canvas.v_line(self.__x, self.__y, self.__width) #left line\n",
    "        canvas.v_line(self.__x, self.__y + self.__length, self.__width) #right line\n",
    "        canvas.h_line(self.__x, self.__y, self.__length) #bottom line\n",
    "        canvas.h_line(self.__x + self.__width, self.__y, self.__length) #top line\n",
    "\n",
    "    def __repr__(self):\n",
    "        return \"Rectangle (\"+repr(self.__length)+\",\"+repr(self.__width)+\",\"+repr(self.__x)+\",\"+repr(self.__y)+\") \"\n",
    "\n",
    "\n",
    "\n",
    "class Circle(Shape):\n",
    "    def __init__(self, radius, x, y):\n",
    "        super().__init__(x,y)\n",
    "        self.__radius=radius\n",
    "        self.__x=x\n",
    "        self.__y=y\n",
    "\n",
    "    def area(self):\n",
    "        return self.__radius**2*math.pi\n",
    "        \n",
    "    def perimeter(self):\n",
    "        return self.__radius*2*math.pi\n",
    "\n",
    "    def get_radius(self):\n",
    "        return self.__radius\n",
    "\n",
    "    def get_x(self):\n",
    "        return self.__x\n",
    "\n",
    "    def get_y(self):\n",
    "        return self.__y\n",
    "\n",
    "    def parameter_points(self):\n",
    "        points=list()\n",
    "        for i in range(16): #use different angles to obatin x,y coordinates\n",
    "            angle=( 2*math.pi/16) * i\n",
    "            x_point=self.__x + self.__radius * math.cos(angle)\n",
    "            y_point=self.__y +self.__radius * math.sin(angle)\n",
    "            points.append((x_point,y_point))\n",
    "        return points \n",
    "\n",
    "    def is_inside(self,x,y): # point is inside if distance from point to circle is less than radius\n",
    "        test_point_distance= math.sqrt((x - self.__x )**2 + (y - self.__y)**2)\n",
    "        return test_point_distance < self.__radius\n",
    "\n",
    "    def paint(self,canvas):\n",
    "        # use parameter points to paint circle shape\n",
    "        p=self.parameter_points()\n",
    "        for x,y in p:\n",
    "            canvas.set_pixel(int(x),int(y))\n",
    "\n",
    "    def __repr__(self):\n",
    "        return \"Circle (\"+repr(self.__radius)+\",\"+repr(self.__x)+\",\"+repr(self.__y)+\") \"\n",
    "\n",
    "\n",
    "\n",
    "class Triangle(Shape):\n",
    "    def __init__(self,side1,side2,side3,x,y):\n",
    "        super().__init__(x,y)\n",
    "        self.__side1=side1\n",
    "        self.__side2=side2\n",
    "        self.__side3=side3\n",
    "        self.__x=x\n",
    "        self.__y=y\n",
    "\n",
    "    def area(self): # uses Heron's formula to find area \n",
    "        s=(self.__side1+self.__side2+self.__side3)/2\n",
    "        return math.sqrt(s*(s-self.__side1)*(s-self.__side2)*(s-self.__side3))\n",
    "    \n",
    "    def perimeter(self):\n",
    "        return self.__side1+self.__side2+self.__side3\n",
    "\n",
    "    def get_x(self):\n",
    "        return self.__x\n",
    "        \n",
    "    def get_y(self):\n",
    "        return self.__y\n",
    "\n",
    "    def get_side_lengths(self):\n",
    "        return self.__side1, self.__side2, self.__side3\n",
    "\n",
    "    def parameter_points(self):\n",
    "        vertex1=(self.__x,self.__y)\n",
    "        vertex2=(self.__x+self.__side3,self.__y)\n",
    "        \n",
    "        #use law of cosine to find angle\n",
    "        angle= (self.__side2**2 + self.__side3**2 - self.__side1**2) / (2*self.__side2*self.__side3)\n",
    "        angle_in_radian= math.acos(angle)\n",
    "        \n",
    "        #use angle to find third vertex\n",
    "        x_v3=self.__x + self.__side2 * math.cos(angle_in_radian)\n",
    "        y_v3=self.__y +self.__side2 * math.sin(angle_in_radian)\n",
    "        vertex3=(x_v3,y_v3)\n",
    "        \n",
    "        return [vertex1,vertex2,vertex3]\n",
    "\n",
    "    \n",
    "    def is_inside(self,x,y):\n",
    "        vertex1,vertex2,vertex3=self.parameter_points()\n",
    "        x1,y1=vertex1\n",
    "        x2,y2=vertex2\n",
    "        x3,y3=vertex3\n",
    "\n",
    "        big_area= abs( x1*(y2-y3) + x2*(y3-y1) + x3*(y1-y2) )/2\n",
    "        \n",
    "        #find area relative to point x,y\n",
    "        sub_area1= abs( x*(y2-y3) + x2*(y3-y) + x3*(y-y2) )/2\n",
    "        sub_area2= abs( x1*(y-y3) + x*(y3-y1) + x3*(y1-y) )/2\n",
    "        sub_area3= abs( x1*(y2-y) + x2*(y-y1) + x*(y1-y2) )/2\n",
    "\n",
    "        #find barycentric point\n",
    "        b1= sub_area1/big_area\n",
    "        b2= sub_area2/big_area\n",
    "        b3= sub_area3/big_area\n",
    "\n",
    "        return (0<=b1<=1) and (0<=b2<=1) and (0<=b3<=1) #points inside triangle   \n",
    "\n",
    "    def paint(self,canvas):\n",
    "        p=self.parameter_points()\n",
    "        for x,y in p:\n",
    "            canvas.set_pixel(int(x),int(y))\n",
    "\n",
    "    def __repr__(self):\n",
    "        return \"Triangle (\"+repr(self.__side1)+\",\"+repr(self.__side2)+\",\"+repr(self.__side3)+\",\"+repr(self.__x)+\",\"+repr(self.__y)+\") \"\n",
    "\n"
   ]
  },
  {
   "cell_type": "code",
   "execution_count": 495,
   "metadata": {},
   "outputs": [
    {
     "name": "stdout",
     "output_type": "stream",
     "text": [
      "rectangle perimeter points:\n",
      " [(4, 5), (7, 5), (7, 7), (4, 7)]\n",
      "triangle perimeter points:\n",
      " [(0, 0), (5, 0), (3.2, 2.3999999999999995)]\n",
      "circle perimeter points:\n",
      " [(5.0, 5.0), (4.923879532511287, 5.38268343236509), (4.707106781186548, 5.707106781186548), (4.38268343236509, 5.923879532511287), (4.0, 6.0), (3.6173165676349104, 5.923879532511287), (3.2928932188134525, 5.707106781186548), (3.076120467488713, 5.38268343236509), (3.0, 5.0), (3.076120467488713, 4.61731656763491), (3.292893218813452, 4.292893218813452), (3.6173165676349095, 4.076120467488714), (4.0, 4.0), (4.38268343236509, 4.076120467488713), (4.707106781186547, 4.292893218813452), (4.923879532511286, 4.6173165676349095)]\n",
      "Is point inside circle? True\n",
      "Is point inside circle? False\n",
      "Is point inside rectangle? True\n",
      "Is point inside rectangle? False\n",
      "Is point inside triangle? True\n",
      "Is point inside triangle? False\n"
     ]
    }
   ],
   "source": [
    "#testing perimeter points and if certain point is inside a shape\n",
    "\n",
    "rec = Rectangle(3,2,4,5)\n",
    "print(\"rectangle perimeter points:\\n\",rec.parameter_points())\n",
    "tri = Triangle(3,4,5,0,0)\n",
    "print(\"triangle perimeter points:\\n\",tri.parameter_points())\n",
    "cir = Circle(1,4,5)\n",
    "print(\"circle perimeter points:\\n\",cir.parameter_points())\n",
    "\n",
    "print(\"Is point inside circle?\", cir.is_inside(4.5,5)) #should be True\n",
    "print(\"Is point inside circle?\", cir.is_inside(0,1)) # should be false \n",
    "print(\"Is point inside rectangle?\", rec.is_inside(5,6)) # same order downwards\n",
    "print(\"Is point inside rectangle?\", rec.is_inside(9,12))\n",
    "print(\"Is point inside triangle?\", tri.is_inside(1,2))\n",
    "print(\"Is point inside triangle?\", tri.is_inside(8,11))"
   ]
  },
  {
   "cell_type": "code",
   "execution_count": 497,
   "metadata": {},
   "outputs": [
    {
     "name": "stdout",
     "output_type": "stream",
     "text": [
      "False\n",
      "True\n",
      "False\n"
     ]
    }
   ],
   "source": [
    "#Testing overlap function of base class\n",
    "\n",
    "rec = Rectangle(3,2,4,5)\n",
    "tri = Triangle(3,4,5,0,0)\n",
    "cir = Circle(1,4,5)\n",
    "\n",
    "print(rec.overlap(tri))\n",
    "print(rec.overlap(cir))\n",
    "print(tri.overlap(cir))"
   ]
  },
  {
   "cell_type": "markdown",
   "metadata": {},
   "source": [
    "10. Copy the `Canvas` class from lecture to in a python file creating a `paint` module. Copy your classes from above into the module and implement paint functions. Implement a `CompoundShape` class. Create a simple drawing demonstrating that all of your classes are working."
   ]
  },
  {
   "cell_type": "code",
   "execution_count": 499,
   "metadata": {},
   "outputs": [],
   "source": [
    "import paint\n",
    "from paint import Canvas"
   ]
  },
  {
   "cell_type": "code",
   "execution_count": 501,
   "metadata": {},
   "outputs": [],
   "source": [
    "class CompoundShape(Shape):\n",
    "    def __init__(self, shapes):\n",
    "        self.shapes = shapes\n",
    "\n",
    "    def paint(self, canvas):\n",
    "        for s in self.shapes:\n",
    "            s.paint(canvas)"
   ]
  },
  {
   "cell_type": "code",
   "execution_count": 503,
   "metadata": {},
   "outputs": [
    {
     "name": "stdout",
     "output_type": "stream",
     "text": [
      "*********************                    *   *  *                     \n",
      "*                   *                                                 \n",
      "*                   *                *              *                 \n",
      "*                   *                                                 \n",
      "*                   *                                                 \n",
      "*                   *                                                 \n",
      "*                   *              *                  *               \n",
      "*                   *                                                 \n",
      "*                   *                                                 \n",
      "*                   *              *                                  \n",
      "********************                                   *              \n",
      "                                                                      \n",
      "                                                                      \n",
      "                                   *                  *               \n",
      "                                                                      \n",
      "                                                                      \n",
      "                                                                      \n",
      "                                     *              *                 \n",
      "                                                                      \n",
      "                                         *      *                     \n",
      "                         *                   *                        \n",
      "                                                                      \n",
      "                                                                      \n",
      "                                                                      \n",
      "                               *                                      \n",
      "                                                                      \n",
      "                                                                      \n",
      "                                                                      \n",
      "                         *                                            \n",
      "                                                                      \n"
     ]
    }
   ],
   "source": [
    "#tsting paint functions of shape classes\n",
    "\n",
    "c1 = Canvas(70,30)\n",
    "circle = Circle(10,10,45)\n",
    "rectangle = Rectangle(20,10,0,0)\n",
    "trtr=Triangle(7,8,8,20,25)\n",
    "circle.paint(c1)\n",
    "rectangle.paint(c1)\n",
    "trtr.paint(c1)\n",
    "c1.display()"
   ]
  },
  {
   "cell_type": "code",
   "execution_count": 505,
   "metadata": {},
   "outputs": [
    {
     "name": "stdout",
     "output_type": "stream",
     "text": [
      "*                                                 \n",
      "                                                  \n",
      "                                                  \n",
      "                                                  \n",
      "                                                  \n",
      "                                                  \n",
      "    *          *   *  *                           \n",
      "*                                                 \n",
      "            *            *                        \n",
      "                                                  \n",
      "                                                  \n",
      "          *                *                      \n",
      "                                                  \n",
      "                                                  \n",
      "          *                                       \n",
      "                            *                     \n",
      "                                                  \n",
      "                                                  \n",
      "          *                *                      \n",
      "                                                  \n",
      "                    ******                        \n",
      "            *       *    *                        \n",
      "                    *    *                        \n",
      "               *    * *  *                        \n",
      "                   **    *                        \n",
      "                    *****                         \n",
      "                                                  \n",
      "                                                  \n",
      "                                                  \n",
      "                                                  \n"
     ]
    }
   ],
   "source": [
    "# Testing Compund Shape class\n",
    "\n",
    "c1=Canvas(50,30)\n",
    "s1=CompoundShape([Rectangle(5,5,20,20),\n",
    "                  Circle(9,15,19),\n",
    "                 Triangle(5,8,7,0,0)])\n",
    "s1.paint(c1)\n",
    "c1.display()"
   ]
  },
  {
   "cell_type": "markdown",
   "metadata": {},
   "source": [
    "11. Create a `RasterDrawing` class. Demonstrate that you can create a drawing made of several shapes, paint the drawing, modify the drawing, and paint it again. "
   ]
  },
  {
   "cell_type": "markdown",
   "metadata": {},
   "source": [
    "12. Implement the ability to load/save raster drawings and demonstate that your method works. One way to implement this ability:\n",
    "\n",
    "   * Overload `__repr__` functions of all objects to return strings of the python code that would construct the object.\n",
    "   \n",
    "   * In the save method of raster drawing class, store the representations into the file.\n",
    "   * Write a loader function that reads the file and uses `eval` to instantiate the object.\n",
    "\n",
    "For example:"
   ]
  },
  {
   "cell_type": "code",
   "execution_count": 507,
   "metadata": {},
   "outputs": [],
   "source": [
    "class RasterDrawing:\n",
    "    \n",
    "    def __init__(self,shapes=None,shape_names=None):\n",
    "        if shapes is None:\n",
    "            self.shapes=dict()\n",
    "        else: \n",
    "            self.shapes=shapes\n",
    "        if shape_names is None:\n",
    "            self.shape_names=list()\n",
    "        else:\n",
    "            self.shape_names=shape_names\n",
    "\n",
    "    def add_shape(self,shape):\n",
    "        # check if shape has name\n",
    "        if not shape.name or shape.name ==\"\":\n",
    "            shape.name = self.assign_name()\n",
    "            \n",
    "        #check if name already exists\n",
    "        if shape.name not in self.shapes:\n",
    "            self.shapes[shape.name]=shape\n",
    "            self.shape_names.append(shape.name)\n",
    "\n",
    "    def update(self, canvas):\n",
    "        canvas.clear_canvas()\n",
    "        self.paint(canvas)\n",
    "        \n",
    "    def paint(self,canvas):\n",
    "        for shape_name in self.shape_names:\n",
    "            self.shapes[shape_name].paint(canvas)\n",
    "            \n",
    "    def assign_name(self):\n",
    "        name_base=\"shape\"\n",
    "        name = name_base+\"_0\"\n",
    "        i=1\n",
    "        \n",
    "        while name in self.shapes:\n",
    "            name = name_base+\"_\"+str(i)\n",
    "            i+=1\n",
    "        return name\n",
    "        \n",
    "    def modify_shape(self, name, new_shape): \n",
    "        # members of function are private so I have to allow a new shape to take over current shape for modifications\n",
    "        if name in self.shapes:\n",
    "            self.shapes[name]=new_shape\n",
    "\n",
    "    def __repr__(self):\n",
    "        return f\"RasterDrawing(shapes={self.shapes}, shape_names={self.shape_names})\"\n",
    "   \n",
    "    def save(self,filename):\n",
    "        with open(filename,\"w\") as f:\n",
    "            f.write(repr(self))\n",
    "            \n",
    "    @classmethod\n",
    "    def loader(cls, filename):\n",
    "        with open(filename, \"r\") as f:\n",
    "            data = f.read()  \n",
    "        return eval(data)"
   ]
  },
  {
   "cell_type": "code",
   "execution_count": 509,
   "metadata": {},
   "outputs": [
    {
     "name": "stdout",
     "output_type": "stream",
     "text": [
      "{'shape_0': Rectangle (5,5,20,20) }\n",
      "{'shape_0': Rectangle (5,5,20,20) , 'shape_1': Circle (7,15,19) }\n",
      "{'shape_0': Rectangle (5,5,20,20) , 'shape_1': Circle (7,15,19) , 'shape_2': Triangle (9,7,9,10,30) }\n",
      "                                             \n",
      "                                             \n",
      "                                             \n",
      "                                             \n",
      "                                             \n",
      "                                             \n",
      "                                             \n",
      "                                             \n",
      "                *  * *                       \n",
      "                                             \n",
      "              *        *      *              \n",
      "                                             \n",
      "            *            *          *        \n",
      "                                             \n",
      "            *                                \n",
      "                          *                  \n",
      "                                             \n",
      "            *            *                   \n",
      "                                             \n",
      "              *        *      *              \n",
      "                    ******                   \n",
      "                *   **   *                   \n",
      "                   **    *                   \n",
      "                    *    *                   \n",
      "                    *    *                   \n",
      "                    *****                    \n",
      "                                             \n",
      "                                             \n",
      "                                             \n",
      "                                             \n",
      "                                             \n",
      "                                             \n",
      "                                             \n",
      "                                             \n",
      "                                             \n"
     ]
    }
   ],
   "source": [
    "# Testing RasterDrawing \n",
    "\n",
    "c1=Canvas(45,35)\n",
    "rd=RasterDrawing()\n",
    "\n",
    "rd.add_shape(Rectangle(5,5,20,20))\n",
    "print(rd.shapes)\n",
    "rd.add_shape(Circle(7,15,19))\n",
    "print(rd.shapes)\n",
    "rd.add_shape(Triangle(9,7,9,10,30))\n",
    "print(rd.shapes)\n",
    "rd.paint(c1)\n",
    "\n",
    "c1.display()"
   ]
  },
  {
   "cell_type": "code",
   "execution_count": 511,
   "metadata": {},
   "outputs": [
    {
     "name": "stdout",
     "output_type": "stream",
     "text": [
      "*********************                        \n",
      "*                   *                        \n",
      "*                   *                        \n",
      "*                   *                        \n",
      "*                   *                        \n",
      "*                   *                        \n",
      "*                   *                        \n",
      "*                   *                        \n",
      "*               *  ***                       \n",
      "*                   *                        \n",
      "********************   *      *              \n",
      "                                             \n",
      "            *            *          *        \n",
      "                                             \n",
      "            *                                \n",
      "                          *                  \n",
      "                                             \n",
      "            *            *                   \n",
      "                                             \n",
      "              *        *      *              \n",
      "                                             \n",
      "                *    *                       \n",
      "                   *                         \n",
      "                                             \n",
      "                                             \n",
      "                                             \n",
      "                                             \n",
      "                                             \n",
      "                                             \n",
      "                                             \n",
      "                                             \n",
      "                                             \n",
      "                                             \n",
      "                                             \n",
      "                                             \n"
     ]
    }
   ],
   "source": [
    "# Testing modification\n",
    "new_rec=Rectangle(20,10,0,0)\n",
    "rd.modify_shape(\"shape_0\", new_rec)\n",
    "rd.paint(c1)\n",
    "rd.update(c1)\n",
    "c1.display()"
   ]
  },
  {
   "cell_type": "code",
   "execution_count": 451,
   "metadata": {},
   "outputs": [],
   "source": [
    "#creating and saving content into a file\n",
    "\n",
    "C=Canvas(50,30)\n",
    "\n",
    "pic=RasterDrawing()\n",
    "\n",
    "retata = Rectangle(20,10,0,0)\n",
    "cece=Circle(9,15,19) \n",
    "tete=Triangle(9,10,10,0,35)\n",
    "\n",
    "pic.add_shape(retata)\n",
    "pic.add_shape(cece)\n",
    "pic.add_shape(tete)\n",
    "\n",
    "pic.save(\"shape_viz.txt\")\n"
   ]
  },
  {
   "cell_type": "code",
   "execution_count": 513,
   "metadata": {},
   "outputs": [
    {
     "name": "stdout",
     "output_type": "stream",
     "text": [
      "RasterDrawing(shapes={'shape_0': Rectangle (20,10,0,0) , 'shape_1': Circle (9,15,19) , 'shape_2': Triangle (9,10,10,0,35) }, shape_names=['shape_0', 'shape_1', 'shape_2'])"
     ]
    }
   ],
   "source": [
    "#Check contents of file\n",
    "\n",
    "!cat shape_viz.txt"
   ]
  },
  {
   "cell_type": "code",
   "execution_count": 515,
   "metadata": {},
   "outputs": [
    {
     "name": "stdout",
     "output_type": "stream",
     "text": [
      "RasterDrawing(shapes={'shape_0': Rectangle (20,10,0,0) , 'shape_1': Circle (9,15,19) , 'shape_2': Triangle (9,10,10,0,35) }, shape_names=['shape_0', 'shape_1', 'shape_2'])\n"
     ]
    }
   ],
   "source": [
    "#Reloading file \n",
    "\n",
    "pic_reloaded = pic.loader(\"shape_viz.txt\")\n",
    "print(pic_reloaded)"
   ]
  },
  {
   "cell_type": "code",
   "execution_count": 517,
   "metadata": {},
   "outputs": [
    {
     "name": "stdout",
     "output_type": "stream",
     "text": [
      "*********************              *              \n",
      "*                   *                             \n",
      "*                   *                             \n",
      "*                   *                             \n",
      "*                   *                             \n",
      "*                   *                      *      \n",
      "*              *   ** *                           \n",
      "*                   *                             \n",
      "*           *       *    *                        \n",
      "*                   *                             \n",
      "********************               *              \n",
      "          *                *                      \n",
      "                                                  \n",
      "                                                  \n",
      "          *                                       \n",
      "                            *                     \n",
      "                                                  \n",
      "                                                  \n",
      "          *                *                      \n",
      "                                                  \n",
      "                                                  \n",
      "            *            *                        \n",
      "                                                  \n",
      "               *      *                           \n",
      "                   *                              \n",
      "                                                  \n",
      "                                                  \n",
      "                                                  \n",
      "                                                  \n",
      "                                                  \n"
     ]
    }
   ],
   "source": [
    "#Painting the file\n",
    "\n",
    "pic_reloaded.paint(C)\n",
    "C.display()"
   ]
  },
  {
   "cell_type": "code",
   "execution_count": null,
   "metadata": {},
   "outputs": [],
   "source": []
  },
  {
   "cell_type": "code",
   "execution_count": null,
   "metadata": {},
   "outputs": [],
   "source": []
  },
  {
   "cell_type": "code",
   "execution_count": null,
   "metadata": {},
   "outputs": [],
   "source": []
  },
  {
   "cell_type": "code",
   "execution_count": 348,
   "metadata": {},
   "outputs": [],
   "source": [
    "class foo:\n",
    "    def __init__(self,a,b=None):\n",
    "        self.a=a\n",
    "        self.b=b\n",
    "        \n",
    "    def __repr__(self):\n",
    "        return \"foo(\"+repr(self.a)+\",\"+repr(self.b)+\")\"\n",
    "    \n",
    "    def save(self,filename):\n",
    "        f=open(filename,\"w\")\n",
    "        f.write(self.__repr__())\n",
    "        f.close()\n",
    "        \n",
    "   \n",
    "def foo_loader(filename):\n",
    "    f=open(filename,\"r\")\n",
    "    tmp=eval(f.read())\n",
    "    f.close()\n",
    "    return tmp\n"
   ]
  },
  {
   "cell_type": "code",
   "execution_count": 350,
   "metadata": {},
   "outputs": [
    {
     "name": "stdout",
     "output_type": "stream",
     "text": [
      "foo(1,'hello')\n"
     ]
    }
   ],
   "source": [
    "# Test\n",
    "print(repr(foo(1,\"hello\")))"
   ]
  },
  {
   "cell_type": "code",
   "execution_count": 288,
   "metadata": {},
   "outputs": [],
   "source": [
    "# Create an object and save it\n",
    "ff=foo(1,\"hello\")\n",
    "ff.save(\"Test.foo\")"
   ]
  },
  {
   "cell_type": "code",
   "execution_count": 352,
   "metadata": {},
   "outputs": [
    {
     "name": "stdout",
     "output_type": "stream",
     "text": [
      "cat: Test.foo: No such file or directory\n"
     ]
    }
   ],
   "source": [
    "# Check contents of the saved file\n",
    "!cat Test.foo"
   ]
  },
  {
   "cell_type": "code",
   "execution_count": 292,
   "metadata": {},
   "outputs": [
    {
     "data": {
      "text/plain": [
       "foo(1,'hello')"
      ]
     },
     "execution_count": 292,
     "metadata": {},
     "output_type": "execute_result"
    }
   ],
   "source": [
    "# Load the object\n",
    "ff_reloaded=foo_loader(\"Test.foo\")\n",
    "ff_reloaded"
   ]
  },
  {
   "cell_type": "code",
   "execution_count": null,
   "metadata": {},
   "outputs": [],
   "source": []
  }
 ],
 "metadata": {
  "kernelspec": {
   "display_name": "Python 3 (ipykernel)",
   "language": "python",
   "name": "python3"
  },
  "language_info": {
   "codemirror_mode": {
    "name": "ipython",
    "version": 3
   },
   "file_extension": ".py",
   "mimetype": "text/x-python",
   "name": "python",
   "nbconvert_exporter": "python",
   "pygments_lexer": "ipython3",
   "version": "3.12.4"
  }
 },
 "nbformat": 4,
 "nbformat_minor": 4
}
