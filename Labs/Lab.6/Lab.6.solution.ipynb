{
 "cells": [
  {
   "cell_type": "markdown",
   "metadata": {},
   "source": [
    "# Lab 6"
   ]
  },
  {
   "cell_type": "markdown",
   "metadata": {},
   "source": [
    "You are tasked with evaluating card counting strategies for black jack. In order to do so, you will use object oriented programming to create a playable casino style black jack game where a computer dealer plays against $n$ computer players and possibily one human player. If you don't know the rules of blackjack or card counting, please google it. \n",
    "\n",
    "A few requirements:\n",
    "* The game should utilize multiple 52-card decks. Typically the game is played with 6 decks.\n",
    "* Players should have chips.\n",
    "* Dealer's actions are predefined by rules of the game (typically hit on 16). \n",
    "* The players should be aware of all shown cards so that they can count cards.\n",
    "* Each player could have a different strategy.\n",
    "* The system should allow you to play large numbers of games, study the outcomes, and compare average winnings per hand rate for different strategies."
   ]
  },
  {
   "cell_type": "markdown",
   "metadata": {},
   "source": [
    "1. Begin by creating a classes to represent cards and decks. The deck should support more than one 52-card set. The deck should allow you to shuffle and draw cards. Include a \"plastic\" card, placed randomly in the deck. Later, when the plastic card is dealt, shuffle the cards before the next deal."
   ]
  },
  {
   "cell_type": "code",
   "execution_count": 2,
   "metadata": {},
   "outputs": [],
   "source": [
    "import random\n",
    "\n",
    "class Card:\n",
    "    \n",
    "    __suits=['Hearts','Clubs','Spades','Diamonds']\n",
    "    __values=[2,3,4,5,6,7,8,9,10,'Jack','Queen','King','Ace']\n",
    "    \n",
    "    def __init__(self,suit,value):\n",
    "        self.__suit=suit if suit in self.__suits else None\n",
    "        self.__value=value if value in self.__values else None \n",
    "    def get_values(self):\n",
    "        return self.__values\n",
    "    def get_suits(self):\n",
    "        return self.__suits\n",
    "    def get_val(self):\n",
    "      return self.__value\n",
    "    def get_su(self):\n",
    "        return self.__suit\n",
    "\n",
    "    def get_numerical_value(self): #assign numerical values to cards\n",
    "        if self.__value in ['Jack','Queen','King']:\n",
    "            return 10\n",
    "        elif self.__value == 'Ace':\n",
    "            return 11\n",
    "        else:\n",
    "            return self.__value\n",
    "        \n",
    "    def __repr__(self):\n",
    "        return f\"{self.__value} of {self.__suit}\"\n",
    "\n",
    "\n",
    "class Deck: \n",
    "    __suits=['Hearts','Clubs','Spades','Diamonds']\n",
    "    __values=[2,3,4,5,6,7,8,9,10,'Jack','Queen','King','Ace']\n",
    "    \n",
    "    def __init__(self,num_decks=6,quiet_mode=False):\n",
    "        self.__num_decks=num_decks\n",
    "        self.__cards=list()\n",
    "        self.seen_cards=list()\n",
    "        self.__make_deck()\n",
    "        self.shuffle_card()\n",
    "        self.__plastic_card_position= random.randint(0,len(self.__cards)-1) #make and add plastic/shuffle card\n",
    "        self.quiet_mode=quiet_mode\n",
    "\n",
    "    def __make_deck(self):\n",
    "        self.__cards= [Card(suit,value) for _ in range(self.__num_decks) for value in self.__values for suit in self.__suits]\n",
    "        \n",
    "    def shuffle_card(self):\n",
    "        random.shuffle(self.__cards)\n",
    "\n",
    "    def show(self,message):\n",
    "        if not self.quiet_mode: #print message if quiet mode is false\n",
    "            print(message)\n",
    "\n",
    "    def get_plastic_card_position(self):\n",
    "        return self.__plastic_card_position\n",
    "\n",
    "    def draw_card(self):\n",
    "        if len(self.__cards) <= self.__plastic_card_position: #reshuffle if plastic card is already drawn\n",
    "            self.show(\"Plastic Card reached. Cards reshuffled.\")\n",
    "            self.__cards=list()\n",
    "            self.__make_deck()\n",
    "            self.shuffle_card()\n",
    "            self.__plastic_card_position= random.randint(0,len(self.__cards)-1)\n",
    "            return self.draw_card() #draw again after shuffling anew\n",
    "            \n",
    "        card=self.__cards.pop() #pick a card\n",
    "        self.seen_cards.append(card)\n",
    "        return card "
   ]
  },
  {
   "cell_type": "code",
   "execution_count": 10,
   "metadata": {},
   "outputs": [
    {
     "data": {
      "text/plain": [
       "[4 of Diamonds,\n",
       " King of Spades,\n",
       " Ace of Clubs,\n",
       " 8 of Clubs,\n",
       " Queen of Clubs,\n",
       " 6 of Clubs,\n",
       " 2 of Spades,\n",
       " 8 of Clubs,\n",
       " 7 of Clubs,\n",
       " 6 of Diamonds]"
      ]
     },
     "execution_count": 10,
     "metadata": {},
     "output_type": "execute_result"
    }
   ],
   "source": [
    "my_deck=Deck()\n",
    "my_deck.shuffle_card()\n",
    "\n",
    "[my_deck.draw_card() for _ in range(10)]"
   ]
  },
  {
   "cell_type": "code",
   "execution_count": 12,
   "metadata": {},
   "outputs": [
    {
     "data": {
      "text/plain": [
       "282"
      ]
     },
     "execution_count": 12,
     "metadata": {},
     "output_type": "execute_result"
    }
   ],
   "source": [
    "my_deck.get_plastic_card_position()"
   ]
  },
  {
   "cell_type": "markdown",
   "metadata": {},
   "source": [
    "2. Now design your game on a UML diagram. You may want to create classes to represent, players, a hand, and/or the game. As you work through the lab, update your UML diagram. At the end of the lab, submit your diagram (as pdf file) along with your notebook. "
   ]
  },
  {
   "cell_type": "markdown",
   "metadata": {},
   "source": [
    "3. Begin with implementing the skeleton (ie define data members and methods/functions, but do not code the logic) of the classes in your UML diagram."
   ]
  },
  {
   "cell_type": "code",
   "execution_count": 4,
   "metadata": {},
   "outputs": [],
   "source": [
    "class Hand:\n",
    "    def __init__(self):\n",
    "        self.__cards=list()\n",
    "        self.total=0\n",
    "        self.aces=0\n",
    "    def ace_adjust_value(self):\n",
    "        pass\n",
    "    def add_card(self,card):\n",
    "        pass\n",
    "    def get_cards(self):\n",
    "        pass\n",
    "    def __repr__(self):\n",
    "        pass\n",
    "\n",
    "class Strategy:\n",
    "    def decide(self,player,deck):\n",
    "        pass\n",
    "class Manual_Strategy(Strategy):\n",
    "    def decide(self,player,deck):\n",
    "        pass\n",
    "class  Dealer_Strategy(Strategy):\n",
    "    def decide(self,player,deck):\n",
    "        pass\n",
    "class Card_Counting_Strategy(Strategy):\n",
    "    def __init__(self, threshold=-2):\n",
    "        self.total=0\n",
    "        self.threshold=threshold\n",
    "        self.counted_card=list()\n",
    "    def sum_card_value(self,card):\n",
    "        pass\n",
    "    def decide(self,player,deck):\n",
    "        pass\n",
    "        \n",
    "class Player:\n",
    "    def __init__(self,name, strategy:Strategy, chips=100, quiet_mode=False):\n",
    "        self.name=name\n",
    "        self.chips=chips\n",
    "        self.hand=Hand()\n",
    "        self.strategy=strategy \n",
    "        self.quiet_mode=quiet_mode\n",
    "    def show(self,message):\n",
    "        pass\n",
    "    def hit(self,deck):\n",
    "        pass\n",
    "    def stand(self):\n",
    "        pass\n",
    "    def bet(self):\n",
    "        pass\n",
    "    def play(self,deck):\n",
    "        pass\n",
    "    def win_bet(self,bet_amount):\n",
    "        pass\n",
    "    def lose_bet(self, bet_amount):\n",
    "        pass\n",
    "    def bust(self):\n",
    "        pass\n",
    "        \n",
    "class Dealer(Player):\n",
    "    def __init__(self,quiet_mode=False):\n",
    "        super().__init__(name=\"Dealer\",chips=0, strategy=Dealer_Strategy(),quiet_mode=quiet_mode)\n",
    "        \n",
    "class Game:\n",
    "    def __init__(self,max_round=None,quiet_mode=False):\n",
    "        self.deck=Deck()\n",
    "        self.players=list()\n",
    "        self.all_players=list()\n",
    "        self.dealer=Dealer(quiet_mode=quiet_mode)\n",
    "        self.max_round=max_round\n",
    "        self.round_count=0\n",
    "        self.bet_amount=0\n",
    "        self.player_bets=dict()\n",
    "        self.quiet_mode=quiet_mode\n",
    "    def show(self,message):\n",
    "        pass\n",
    "    def end_round_condition(self):\n",
    "        pass\n",
    "    def add_player(self,player):\n",
    "        pass\n",
    "    def determine_winner(self):\n",
    "        pass\n",
    "    def game_run(self):\n",
    "        pass\n",
    "    def show_finale(self):\n",
    "        pass"
   ]
  },
  {
   "cell_type": "markdown",
   "metadata": {},
   "source": [
    "4. Complete the implementation by coding the logic of all functions. For now, just implement the dealer player and human player."
   ]
  },
  {
   "cell_type": "code",
   "execution_count": 50,
   "metadata": {},
   "outputs": [],
   "source": [
    "\n",
    "class Player: #make moves and bets\n",
    "    def __init__(self,name, strategy:Strategy, chips=100, quiet_mode=False):\n",
    "        self.name=name\n",
    "        self.chips=chips\n",
    "        self.hand=Hand()\n",
    "        self.strategy=strategy \n",
    "        self.quiet_mode=quiet_mode\n",
    "\n",
    "    def show(self,message):\n",
    "        if not self.quiet_mode: #print message if quiet mode is false\n",
    "            print(message)\n",
    "\n",
    "    def hit(self,deck):\n",
    "        card=deck.draw_card()\n",
    "        self.hand.add_card(card)\n",
    "        if isinstance(self.strategy, Card_Count_Strategy):\n",
    "            self.strategy.sum_card_value(card) # to account for counted cards\n",
    "        \n",
    "    def stand(self):\n",
    "        self.show(f\"{self.name} stand.\")\n",
    "\n",
    "    def play(self,deck):\n",
    "        while not self.bust():\n",
    "            move=self.strategy.decide(self,deck)\n",
    "            if move =='h':\n",
    "                self.hit(deck)\n",
    "                self.show(f\"{self.name} hit. New Hand: {self.hand.__repr__()}\")\n",
    "                if self.bust():\n",
    "                    self.show(f\"{self.name} busted. Turn terminated.\")\n",
    "                    return\n",
    "            else:\n",
    "                self.stand()\n",
    "                return\n",
    "\n",
    "    def bet(self):\n",
    "        if isinstance(self.strategy, Manual_Strategy): # bet for interactive player\n",
    "            while True:\n",
    "                try:\n",
    "                    bet_amount=int(input(f\"{self.name} have {self.chips} chips. How much do you want to bet? \"))\n",
    "                    \n",
    "                    if bet_amount <= 0 or bet_amount > self.chips:\n",
    "                        self.show(\"Invalid bet amount\")\n",
    "                        continue\n",
    "                    self.current_bet_amount=bet_amount\n",
    "                    self.chips-=bet_amount\n",
    "                    break \n",
    "                except ValueError:\n",
    "                    self.show(\"Invalid bet input.\")\n",
    "        else: #bet for computed player\n",
    "            self.current_bet_amount=min(10,self.chips)\n",
    "            self.chips-=self.current_bet_amount\n",
    "            self.show(f\"{self.name} automactically bet {self.current_bet_amount}. Chips remaining:{self.chips}\")                    \n",
    "\n",
    "    def win_bet(self,bet_amount):\n",
    "        self.chips+= bet_amount*2\n",
    "        self.show(f\"{self.name} won {bet_amount*2} chips. Chips own: {self.chips}\")\n",
    "\n",
    "    def lose_bet(self,bet_amount):\n",
    "        self.show(f\"{self.name} lost {bet_amount} chips. Chips own: {self.chips}\")\n",
    "\n",
    "    def bust(self):\n",
    "        return self.hand.total > 21\n",
    "       \n",
    "        \n",
    "class Dealer(Player): #inherit functions from player for simplicity's sake\n",
    "    def __init__(self,quiet_mode=False):\n",
    "        super().__init__(name=\"Dealer\",chips=0, strategy=Dealer_Strategy(),quiet_mode=quiet_mode)"
   ]
  },
  {
   "cell_type": "markdown",
   "metadata": {},
   "source": [
    "6. Implement a new player with the following strategy:\n",
    "\n",
    "    * Assign each card a value: \n",
    "        * Cards 2 to 6 are +1 \n",
    "        * Cards 7 to 9 are 0 \n",
    "        * Cards 10 through Ace are -1\n",
    "    * Compute the sum of the values for all cards seen so far.\n",
    "    * Hit if sum is very negative, stay if sum is very positive. Select a threshold for hit/stay, e.g. 0 or -2.  "
   ]
  },
  {
   "cell_type": "code",
   "execution_count": 66,
   "metadata": {},
   "outputs": [],
   "source": [
    "class Card_Count_Strategy(Strategy): #as requested \n",
    "    def __init__(self, threshold=-2):\n",
    "        self.total=0\n",
    "        self.threshold=threshold\n",
    "        self.counted_card=list()\n",
    "\n",
    "    def sum_card_value(self,card):\n",
    "        if card in self.counted_card:\n",
    "            return\n",
    "        self.counted_card.append(card) # keep note of counted card to make sure sum is correct\n",
    "            \n",
    "        value=card.get_numerical_value()\n",
    "        if value in range (2,7):\n",
    "            self.total +=1\n",
    "        elif value in range (7,10):\n",
    "            pass\n",
    "        else:\n",
    "            self.total -=1\n",
    "        \n",
    "    def decide(self,player,deck):\n",
    "        for card in deck.seen_cards:\n",
    "            self.sum_card_value(card)\n",
    "        return \"h\" if self.total < self.threshold else 's'"
   ]
  },
  {
   "cell_type": "markdown",
   "metadata": {},
   "source": [
    "5.  Test. Demonstrate game play. For example, create a game of several dealer players and show that the game is functional through several rounds."
   ]
  },
  {
   "cell_type": "code",
   "execution_count": 6,
   "metadata": {},
   "outputs": [],
   "source": [
    "#Complete Code logic for game(except card + deck), exmaple test is right below\n",
    "\n",
    "class Hand: #hold card and calculate value of cards in hand\n",
    "    def __init__(self):\n",
    "        self.__cards=list()\n",
    "        self.total=0\n",
    "        self.aces=0\n",
    "\n",
    "    def ace_value_adjust(self):\n",
    "        while self.total > 21 and self.aces:\n",
    "            self.total-=10 # make 1 ace value= 1 if total exceed 21\n",
    "            self.aces-=1\n",
    "\n",
    "    def add_card(self,card):\n",
    "        self.__cards.append(card)\n",
    "        points=card.get_numerical_value()\n",
    "        self.total+=points\n",
    "        \n",
    "        if card.get_val()=='Ace':\n",
    "            self.aces+=1\n",
    "        self.ace_value_adjust()\n",
    "\n",
    "    def get_cards(self):\n",
    "        return self.__cards\n",
    "\n",
    "    def __repr__(self):\n",
    "        return ',  '.join(map(str, self.__cards)) + f\" Total: {self.total}\"\n",
    "\n",
    "\n",
    "class Strategy: #to make and assign different strategy to player/dealer\n",
    "    def decide(self,player,deck):\n",
    "        raise NotImplementedError \n",
    "        \n",
    "class Dealer_Strategy(Strategy):\n",
    "    def decide(self,player,deck):\n",
    "        return \"h\" if player.hand.total <17 else \"s\"\n",
    "        \n",
    "class Manual_Strategy(Strategy):\n",
    "    def decide(self,player,deck):\n",
    "        while True: \n",
    "            move=input(f\"{player.name} hit or stand? (h/s)\").strip().lower()\n",
    "            if move in ['h','s']:\n",
    "                return move\n",
    "            print(\"Invalid move. Please choose 'h' or 's'\")\n",
    "            \n",
    "class Card_Count_Strategy(Strategy): #as requested in question 6\n",
    "    def __init__(self, threshold=-2):\n",
    "        self.total=0\n",
    "        self.threshold=threshold\n",
    "        self.counted_card=list()\n",
    "\n",
    "    def sum_card_value(self,card):\n",
    "        if card in self.counted_card:\n",
    "            return\n",
    "        self.counted_card.append(card) # keep note of counted card to make sure sum is correct\n",
    "            \n",
    "        value=card.get_numerical_value()\n",
    "        if value in range (2,7):\n",
    "            self.total +=1\n",
    "        elif value in range (7,10):\n",
    "            pass\n",
    "        else:\n",
    "            self.total -=1\n",
    "        \n",
    "    def decide(self,player,deck):\n",
    "        for card in deck.seen_cards:\n",
    "            self.sum_card_value(card)\n",
    "        return \"h\" if self.total < self.threshold else 's'\n",
    "        \n",
    "\n",
    "class Player: #make moves and bets\n",
    "    def __init__(self,name, strategy:Strategy, chips=100, quiet_mode=False):\n",
    "        self.name=name\n",
    "        self.chips=chips\n",
    "        self.hand=Hand()\n",
    "        self.strategy=strategy \n",
    "        self.quiet_mode=quiet_mode\n",
    "\n",
    "    def show(self,message):\n",
    "        if not self.quiet_mode: #print message if quiet mode is false\n",
    "            print(message)\n",
    "\n",
    "    def hit(self,deck):\n",
    "        card=deck.draw_card()\n",
    "        self.hand.add_card(card)\n",
    "        if isinstance(self.strategy, Card_Count_Strategy):\n",
    "            self.strategy.sum_card_value(card) # to account for counted cards\n",
    "        \n",
    "    def stand(self):\n",
    "        self.show(f\"{self.name} stand.\")\n",
    "\n",
    "    def play(self,deck):\n",
    "        while not self.bust():\n",
    "            move=self.strategy.decide(self,deck)\n",
    "            if move =='h':\n",
    "                self.hit(deck)\n",
    "                self.show(f\"{self.name} hit. New Hand: {self.hand.__repr__()}\")\n",
    "                if self.bust():\n",
    "                    self.show(f\"{self.name} busted. Turn terminated.\")\n",
    "                    return\n",
    "            else:\n",
    "                self.stand()\n",
    "                return\n",
    "\n",
    "    def bet(self):\n",
    "        if isinstance(self.strategy, Manual_Strategy): # bet for interactive player\n",
    "            while True:\n",
    "                try:\n",
    "                    bet_amount=int(input(f\"{self.name} have {self.chips} chips. How much do you want to bet? \"))\n",
    "                    \n",
    "                    if bet_amount <= 0 or bet_amount > self.chips:\n",
    "                        self.show(\"Invalid bet amount\")\n",
    "                        continue\n",
    "                    self.current_bet_amount=bet_amount\n",
    "                    self.chips-=bet_amount\n",
    "                    break \n",
    "                except ValueError:\n",
    "                    self.show(\"Invalid bet input.\")\n",
    "        else: #bet for computed player\n",
    "            self.current_bet_amount=min(10,self.chips)\n",
    "            self.chips-=self.current_bet_amount\n",
    "            self.show(f\"{self.name} automactically bet {self.current_bet_amount}. Chips remaining:{self.chips}\")                    \n",
    "\n",
    "    def win_bet(self,bet_amount):\n",
    "        self.chips+= bet_amount*2\n",
    "        self.show(f\"{self.name} won {bet_amount*2} chips. Chips own: {self.chips}\")\n",
    "\n",
    "    def lose_bet(self,bet_amount):\n",
    "        self.show(f\"{self.name} lost {bet_amount} chips. Chips own: {self.chips}\")\n",
    "\n",
    "    def bust(self):\n",
    "        return self.hand.total > 21\n",
    "       \n",
    "        \n",
    "class Dealer(Player): #inherit functions from player for simplicity's sake\n",
    "    def __init__(self,quiet_mode=False):\n",
    "        super().__init__(name=\"Dealer\",chips=0, strategy=Dealer_Strategy(),quiet_mode=quiet_mode)\n",
    "\n",
    "\n",
    "class Game:\n",
    "    def __init__(self,max_round=None,quiet_mode=False):\n",
    "        self.deck=Deck()\n",
    "        self.players=list()\n",
    "        self.all_players=list()\n",
    "        self.dealer=Dealer(quiet_mode=quiet_mode)\n",
    "        self.max_round=max_round\n",
    "        self.round_count=0\n",
    "        self.bet_amount=0\n",
    "        self.player_bets=dict()\n",
    "        self.quiet_mode=quiet_mode\n",
    "\n",
    "    def show(self,message):\n",
    "        if not self.quiet_mode: #print message if quiet mode is false\n",
    "            print(message)\n",
    "\n",
    "    def end_round_condition(self): #to stop game when necessary/conditions met\n",
    "        if self.max_round and self.round_count >= self.max_round:\n",
    "            self.show(\"Max rounds reached. Game finished.\")\n",
    "            return True\n",
    "        elif all(player.chips <= 0 for player in self.players) or not self.players:\n",
    "            self.show(\"All players ran out of chips. Game terminated.\")\n",
    "            return True\n",
    "        return False\n",
    "\n",
    "    def add_player(self,player):\n",
    "        self.players.append(player)\n",
    "        self.all_players.append(player) #remember all players\n",
    "\n",
    "    def determine_winner(self):\n",
    "        if self.dealer.bust():  #player win if they don't bust and dealer bust\n",
    "            self.show(\"Dealer busted\")\n",
    "            for player in self.players:\n",
    "                bet_amount=self.player_bets.get(player.name, 0)\n",
    "                if not player.bust():\n",
    "                    player.win_bet(bet_amount)\n",
    "                else:\n",
    "                    player.lose_bet(bet_amount)\n",
    "\n",
    "        else:           \n",
    "            for player in self.players: \n",
    "                bet_amount=self.player_bets.get(player.name, 0)\n",
    "                if player.bust() and not self.dealer.bust():\n",
    "                    player.lose_bet(bet_amount)\n",
    "                elif player.hand.total > self.dealer.hand.total:\n",
    "                    player.win_bet(bet_amount)\n",
    "                elif player.hand.total < self.dealer.hand.total:\n",
    "                    player.lose_bet(bet_amount)\n",
    "                else:\n",
    "                    player.chips += bet_amount \n",
    "                    self.show(f\"{player.name} tie with dealer. Chips own: {player.chips}\")\n",
    "        \n",
    "\n",
    "    def game_run(self):\n",
    "        \n",
    "        if self.end_round_condition(): #stop game if it reaches max round or all players run out of chips\n",
    "            return \n",
    "            \n",
    "        self.round_count+=1\n",
    "        self.show(f\"\\n~~~ Round {self.round_count} ~~~\")\n",
    "\n",
    "        for player in self.all_players: #show if someone no longer play because they ran out of chips\n",
    "            if player.chips  ==0:\n",
    "                self.show(f\"{player.name} ran out of chips and can no longer play.\")\n",
    "                \n",
    "        #only allow players with chips to play; players with no chips cannot play\n",
    "        self.players=[player for player in self.all_players if player.chips >0] \n",
    "            \n",
    "        #Betting   \n",
    "        self.player_bets=dict()\n",
    "        for player in self.players:\n",
    "            if player.chips>0:\n",
    "                player.bet()\n",
    "                self.player_bets[player.name]=player.current_bet_amount\n",
    "\n",
    "        #Start with empty hand\n",
    "        for player in self.players:\n",
    "            player.hand=Hand()\n",
    "        self.dealer.hand=Hand()\n",
    "\n",
    "        #Deal card - this progressions makes sure all players get 1 card for 1 dealing and then repeat to retain randomness\n",
    "        for player in self.players:\n",
    "            player.hit(self.deck)\n",
    "        self.dealer.hit(self.deck)\n",
    "        for player in self.players:\n",
    "            player.hit(self.deck)\n",
    "        self.dealer.hit(self.deck)\n",
    "        \n",
    "        #Show dealer's initial card - in Black Jack dealer only shows one of the card at the beginning\n",
    "        self.show(f\"Dealer's Hand: {self.dealer.hand.get_cards()[0]} and [Hidden]\")\n",
    "\n",
    "        #allow players to play\n",
    "        for player in self.players:\n",
    "            if player.chips ==0 and player.current_bet_amount==0: #skip play if they're broke\n",
    "                continue\n",
    "            self.show(f\"{player.name}'s Hand: {player.hand}\") #in Black Jack, players' cards are shown as they are dealt\n",
    "            player.play(self.deck)\n",
    "\n",
    "        #allow dealer to make decision/play\n",
    "        if not self.dealer.bust():\n",
    "            self.show(f\"Dealer's hand: {self.dealer.hand}\")\n",
    "            self.dealer.play(self.deck)\n",
    "\n",
    "        self.determine_winner()\n",
    "\n",
    "    \n",
    "    def show_finale(self): #see final winning(s)\n",
    "        self.show(\"Game done\")\n",
    "        self.show(\"Final chip counts:\")\n",
    "        for player in self.all_players:\n",
    "            self.show(f\"{player.name}: {player.chips}\")"
   ]
  },
  {
   "cell_type": "code",
   "execution_count": 64,
   "metadata": {},
   "outputs": [
    {
     "name": "stdout",
     "output_type": "stream",
     "text": [
      "\n",
      "~~~ Round 1 ~~~\n"
     ]
    },
    {
     "name": "stdin",
     "output_type": "stream",
     "text": [
      "Alice have 100 chips. How much do you want to bet?  500\n"
     ]
    },
    {
     "name": "stdout",
     "output_type": "stream",
     "text": [
      "Invalid bet amount\n"
     ]
    },
    {
     "name": "stdin",
     "output_type": "stream",
     "text": [
      "Alice have 100 chips. How much do you want to bet?  50\n"
     ]
    },
    {
     "name": "stdout",
     "output_type": "stream",
     "text": [
      "Ben automactically bet 10. Chips remaining:90\n",
      "Oscar automactically bet 10. Chips remaining:90\n",
      "Dealer's Hand: Ace of Clubs and [Hidden]\n",
      "Alice's Hand: 7 of Spades,  3 of Diamonds Total: 10\n"
     ]
    },
    {
     "name": "stdin",
     "output_type": "stream",
     "text": [
      "Alice hit or stand? (h/s) \n"
     ]
    },
    {
     "name": "stdout",
     "output_type": "stream",
     "text": [
      "Invalid move. Please choose 'h' or 's'\n"
     ]
    },
    {
     "name": "stdin",
     "output_type": "stream",
     "text": [
      "Alice hit or stand? (h/s) g\n"
     ]
    },
    {
     "name": "stdout",
     "output_type": "stream",
     "text": [
      "Invalid move. Please choose 'h' or 's'\n"
     ]
    },
    {
     "name": "stdin",
     "output_type": "stream",
     "text": [
      "Alice hit or stand? (h/s) h\n"
     ]
    },
    {
     "name": "stdout",
     "output_type": "stream",
     "text": [
      "Alice hit. New Hand: 7 of Spades,  3 of Diamonds,  Ace of Hearts Total: 21\n"
     ]
    },
    {
     "name": "stdin",
     "output_type": "stream",
     "text": [
      "Alice hit or stand? (h/s) s\n"
     ]
    },
    {
     "name": "stdout",
     "output_type": "stream",
     "text": [
      "Alice stand.\n",
      "Ben's Hand: 7 of Spades,  9 of Hearts Total: 16\n",
      "Ben hit. New Hand: 7 of Spades,  9 of Hearts,  2 of Clubs Total: 18\n",
      "Ben stand.\n",
      "Oscar's Hand: 5 of Hearts,  4 of Diamonds Total: 9\n",
      "Oscar stand.\n",
      "Dealer's hand: Ace of Clubs,  9 of Diamonds Total: 20\n",
      "Dealer stand.\n",
      "Alice won 100 chips. Chips own: 150\n",
      "Ben lost 10 chips. Chips own: 90\n",
      "Oscar lost 10 chips. Chips own: 90\n",
      "\n",
      "~~~ Round 2 ~~~\n"
     ]
    },
    {
     "name": "stdin",
     "output_type": "stream",
     "text": [
      "Alice have 150 chips. How much do you want to bet?  150\n"
     ]
    },
    {
     "name": "stdout",
     "output_type": "stream",
     "text": [
      "Ben automactically bet 10. Chips remaining:80\n",
      "Oscar automactically bet 10. Chips remaining:80\n",
      "Dealer's Hand: Ace of Spades and [Hidden]\n",
      "Alice's Hand: Ace of Diamonds,  8 of Clubs Total: 19\n"
     ]
    },
    {
     "name": "stdin",
     "output_type": "stream",
     "text": [
      "Alice hit or stand? (h/s) h\n"
     ]
    },
    {
     "name": "stdout",
     "output_type": "stream",
     "text": [
      "Alice hit. New Hand: Ace of Diamonds,  8 of Clubs,  2 of Diamonds Total: 21\n"
     ]
    },
    {
     "name": "stdin",
     "output_type": "stream",
     "text": [
      "Alice hit or stand? (h/s) h\n"
     ]
    },
    {
     "name": "stdout",
     "output_type": "stream",
     "text": [
      "Alice hit. New Hand: Ace of Diamonds,  8 of Clubs,  2 of Diamonds,  9 of Hearts Total: 20\n"
     ]
    },
    {
     "name": "stdin",
     "output_type": "stream",
     "text": [
      "Alice hit or stand? (h/s) h\n"
     ]
    },
    {
     "name": "stdout",
     "output_type": "stream",
     "text": [
      "Alice hit. New Hand: Ace of Diamonds,  8 of Clubs,  2 of Diamonds,  9 of Hearts,  Jack of Spades Total: 30\n",
      "Alice busted. Turn terminated.\n",
      "Ben's Hand: 2 of Clubs,  Ace of Spades Total: 13\n",
      "Ben hit. New Hand: 2 of Clubs,  Ace of Spades,  5 of Hearts Total: 18\n",
      "Ben stand.\n",
      "Oscar's Hand: 3 of Spades,  King of Diamonds Total: 13\n",
      "Oscar stand.\n",
      "Dealer's hand: Ace of Spades,  Jack of Spades Total: 21\n",
      "Dealer stand.\n",
      "Alice lost 150 chips. Chips own: 0\n",
      "Ben lost 10 chips. Chips own: 80\n",
      "Oscar lost 10 chips. Chips own: 80\n",
      "\n",
      "~~~ Round 3 ~~~\n",
      "Alice ran out of chips and can no longer play.\n",
      "Ben automactically bet 10. Chips remaining:70\n",
      "Oscar automactically bet 10. Chips remaining:70\n",
      "Dealer's Hand: 9 of Clubs and [Hidden]\n",
      "Ben's Hand: 6 of Clubs,  5 of Spades Total: 11\n",
      "Ben hit. New Hand: 6 of Clubs,  5 of Spades,  Jack of Spades Total: 21\n",
      "Ben stand.\n",
      "Oscar's Hand: King of Spades,  2 of Clubs Total: 12\n",
      "Oscar stand.\n",
      "Dealer's hand: 9 of Clubs,  2 of Hearts Total: 11\n",
      "Dealer hit. New Hand: 9 of Clubs,  2 of Hearts,  Jack of Hearts Total: 21\n",
      "Dealer stand.\n",
      "Ben tie with dealer. Chips own: 80\n",
      "Oscar lost 10 chips. Chips own: 70\n",
      "\n",
      "~~~ Round 4 ~~~\n",
      "Alice ran out of chips and can no longer play.\n",
      "Ben automactically bet 10. Chips remaining:70\n",
      "Oscar automactically bet 10. Chips remaining:60\n",
      "Dealer's Hand: 6 of Hearts and [Hidden]\n",
      "Ben's Hand: 7 of Spades,  8 of Clubs Total: 15\n",
      "Ben hit. New Hand: 7 of Spades,  8 of Clubs,  6 of Diamonds Total: 21\n",
      "Ben stand.\n",
      "Oscar's Hand: 3 of Hearts,  3 of Clubs Total: 6\n",
      "Oscar stand.\n",
      "Dealer's hand: 6 of Hearts,  3 of Diamonds Total: 9\n",
      "Dealer hit. New Hand: 6 of Hearts,  3 of Diamonds,  6 of Clubs Total: 15\n",
      "Dealer hit. New Hand: 6 of Hearts,  3 of Diamonds,  6 of Clubs,  4 of Clubs Total: 19\n",
      "Dealer stand.\n",
      "Ben won 20 chips. Chips own: 90\n",
      "Oscar lost 10 chips. Chips own: 60\n",
      "\n",
      "~~~ Round 5 ~~~\n",
      "Alice ran out of chips and can no longer play.\n",
      "Ben automactically bet 10. Chips remaining:80\n",
      "Oscar automactically bet 10. Chips remaining:50\n",
      "Dealer's Hand: 5 of Clubs and [Hidden]\n",
      "Ben's Hand: 10 of Spades,  7 of Spades Total: 17\n",
      "Ben stand.\n",
      "Oscar's Hand: 7 of Diamonds,  5 of Hearts Total: 12\n",
      "Oscar stand.\n",
      "Dealer's hand: 5 of Clubs,  10 of Spades Total: 15\n",
      "Dealer hit. New Hand: 5 of Clubs,  10 of Spades,  10 of Diamonds Total: 25\n",
      "Dealer busted. Turn terminated.\n",
      "Dealer busted\n",
      "Ben won 20 chips. Chips own: 100\n",
      "Oscar won 20 chips. Chips own: 70\n",
      "Game done\n",
      "Final chip counts:\n",
      "Alice: 0\n",
      "Ben: 100\n",
      "Oscar: 70\n"
     ]
    }
   ],
   "source": [
    "#Test game play\n",
    "if __name__==\"__main__\":\n",
    "    num_round=5\n",
    "    game=Game(num_round)\n",
    "    player1 = Player(\"Alice\", Manual_Strategy(), chips=100)\n",
    "    player2 = Player(\"Ben\", Dealer_Strategy(), chips=100)\n",
    "    player3 = Player(\"Oscar\", Card_Count_Strategy(threshold=-2), chips=100)\n",
    "    game.add_player(player1)\n",
    "    game.add_player(player2)\n",
    "    game.add_player(player3)\n",
    "    for i in range(num_round):\n",
    "        game.game_run()\n",
    "    game.show_finale()"
   ]
  },
  {
   "cell_type": "markdown",
   "metadata": {},
   "source": [
    "7. Create a test scenario where one player, using the above strategy, is playing with a dealer and 3 other players that follow the dealer's strategy. Each player starts with same number of chips. Play 50 rounds (or until the strategy player is out of money). Compute the strategy player's winnings. You may remove unnecessary printouts from your code (perhaps implement a verbose/quiet mode) to reduce the output."
   ]
  },
  {
   "cell_type": "code",
   "execution_count": 8,
   "metadata": {},
   "outputs": [],
   "source": [
    "import numpy as np\n",
    "import pandas as pd\n",
    "import matplotlib.pyplot as plt"
   ]
  },
  {
   "cell_type": "code",
   "execution_count": 10,
   "metadata": {},
   "outputs": [],
   "source": [
    "def tester(n_round=50,n_game=1):\n",
    "    net_win=list()\n",
    "    for i in range(n_game): #play x amount of game\n",
    "        game=Game(n_round,quiet_mode=True) \n",
    "        player1 = Player(\"Sim1\", Dealer_Strategy(), chips=100,quiet_mode=True)\n",
    "        player2 = Player(\"Sim2\", Dealer_Strategy(), chips=100,quiet_mode=True)\n",
    "        player3 = Player(\"Sim3\", Dealer_Strategy(), chips=100,quiet_mode=True)\n",
    "        player4 = Player(\"Strategy\", Card_Count_Strategy(threshold=-2), chips=100,quiet_mode=True)\n",
    "        game.add_player(player1)\n",
    "        game.add_player(player2)\n",
    "        game.add_player(player3)\n",
    "        game.add_player(player4)\n",
    "\n",
    "        start_chips= {player.name: player.chips for player in game.all_players} #to calc net chips\n",
    "\n",
    "        deck=Deck(quiet_mode=True)\n",
    "        game.deck=deck\n",
    "        \n",
    "        round_played=0 #track rounds played in 1 game\n",
    "        for j in range(n_round): # run x amount of rounds per game\n",
    "            if player4.chips <=0: #stop game if strategy player runs out of money\n",
    "                break \n",
    "                \n",
    "            game.game_run()\n",
    "            round_played+=1\n",
    "        \n",
    "        net_game_win={\n",
    "            'Net Win': {player.name: player.chips - start_chips[player.name] for player in game.all_players},\n",
    "            'Rounds Played': round_played}\n",
    "        net_win.append(net_game_win)\n",
    "        \n",
    "    return net_win"
   ]
  },
  {
   "cell_type": "code",
   "execution_count": 28,
   "metadata": {},
   "outputs": [
    {
     "data": {
      "text/plain": [
       "[{'Net Win': {'Sim1': -20, 'Sim2': 0, 'Sim3': 80, 'Strategy': -100},\n",
       "  'Rounds Played': 40}]"
      ]
     },
     "execution_count": 28,
     "metadata": {},
     "output_type": "execute_result"
    }
   ],
   "source": [
    "test_game=tester()\n",
    "test_game"
   ]
  },
  {
   "cell_type": "markdown",
   "metadata": {},
   "source": [
    "8. Create a loop that runs 100 games of 50 rounds, as setup in previous question, and store the strategy player's chips at the end of the game (aka \"winnings\") in a list. Histogram the winnings. What is the average winnings per round? What is the standard deviation. What is the probabilty of net winning or lossing after 50 rounds?\n"
   ]
  },
  {
   "cell_type": "code",
   "execution_count": 30,
   "metadata": {},
   "outputs": [
    {
     "name": "stdout",
     "output_type": "stream",
     "text": [
      "Average Net Winnings (Chips) per Round: -0.03992490613266583 \n",
      "Standard Dev: 19.144450893143944 \n",
      "Win Probability: 0.01 \n",
      "Lose Probability: 0.99\n"
     ]
    },
    {
     "data": {
      "image/png": "[encoded data removed]",
      "text/plain": [
       "<Figure size 640x480 with 1 Axes>"
      ]
     },
     "metadata": {},
     "output_type": "display_data"
    }
   ],
   "source": [
    "number_100_game=tester(n_game=100) #100 games of automatic 50 rounds/until strategy player runs out of chips\n",
    "\n",
    "#for the stats \n",
    "strategy_win= [d['Net Win']['Strategy'] for d in number_100_game] #slice for strategy player's winnings only\n",
    "\n",
    "rounds_played= [r['Rounds Played'] for r in number_100_game]\n",
    "total_rounds_played=sum(rounds_played)\n",
    "\n",
    "strategy_average_winning=np.mean(strategy_win)/ total_rounds_played #account for rounds actually played/game\n",
    "strategy_standard_dev=np.std(strategy_win)\n",
    "net_win_prob=sum(1 for chips in strategy_win if chips > 0)/len(strategy_win) #account for games played\n",
    "net_lose_prob=1-net_win_prob\n",
    "\n",
    "print(\"Average Net Winnings (Chips) per Round:\", strategy_average_winning, \n",
    "      \"\\nStandard Dev:\", strategy_standard_dev, \"\\nWin Probability:\", net_win_prob ,\n",
    "      \"\\nLose Probability:\", net_lose_prob)\n",
    "\n",
    "#histogram for strategy player only\n",
    "plt.hist(strategy_win,bins=20,color='maroon')\n",
    "plt.title(\"Histogram of Winning Count for Strategy Player\")\n",
    "plt.xlabel(\"Net Chip Winnings\")\n",
    "plt.ylabel(\"Frequency/Amount of Games\")\n",
    "plt.show()"
   ]
  },
  {
   "cell_type": "code",
   "execution_count": 32,
   "metadata": {},
   "outputs": [
    {
     "data": {
      "image/png": "[encoded data removed]",
      "text/plain": [
       "<Figure size 640x480 with 1 Axes>"
      ]
     },
     "metadata": {},
     "output_type": "display_data"
    }
   ],
   "source": [
    "#here's a histogram for all players\n",
    "total_players=4\n",
    "all_winnings=np.zeros((len(number_100_game),total_players)) #make empty array\n",
    "\n",
    "#store game, player (their chip winning) in the array\n",
    "for i, result in enumerate(number_100_game): \n",
    "    for j,player_name in enumerate(['Sim1','Sim2','Sim3','Strategy']):\n",
    "        all_winnings[i,j]= result['Net Win'][player_name]\n",
    "        \n",
    "#plot        \n",
    "for i in range(all_winnings.shape[1]):\n",
    "    plt.hist(all_winnings[:,i], label=f'Player {i+1}', alpha=0.5, bins=20)\n",
    "plt.title(\"Histogram of Winning Count for All Player\")\n",
    "plt.xlabel(\"Net Chip Winnings\")\n",
    "plt.ylabel(\"Frequency/Amount of Games\")\n",
    "plt.legend()\n",
    "plt.show()"
   ]
  },
  {
   "cell_type": "markdown",
   "metadata": {},
   "source": [
    "9. Repeat previous questions scanning the value of the threshold. Try at least 5 different threshold values. Can you find an optimal value?"
   ]
  },
  {
   "cell_type": "code",
   "execution_count": 92,
   "metadata": {},
   "outputs": [],
   "source": [
    "def threshold_tester(n_round=50,n_game=100):\n",
    "    results=list()\n",
    "    threshold=range(-5,5)\n",
    "    for t in threshold:\n",
    "        net_win=list()\n",
    "        for i in range(n_game): #play x amount of game\n",
    "            game=Game(n_round,quiet_mode=True)\n",
    "            player1 = Player(\"Sim1\", Dealer_Strategy(), chips=100,quiet_mode=True)\n",
    "            player2 = Player(\"Sim2\", Dealer_Strategy(), chips=100,quiet_mode=True)\n",
    "            player3 = Player(\"Sim3\", Dealer_Strategy(), chips=100,quiet_mode=True)\n",
    "            player4 = Player(\"Strategy\", Card_Count_Strategy(threshold=t), chips=100,quiet_mode=True)\n",
    "            game.add_player(player1)\n",
    "            game.add_player(player2)\n",
    "            game.add_player(player3)\n",
    "            game.add_player(player4)\n",
    "    \n",
    "            start_chips= {player.name: player.chips for player in game.all_players}\n",
    "            deck=Deck(quiet_mode=True)\n",
    "            game.deck=deck\n",
    "    \n",
    "            round_played=0 #track rounds played in 1 game\n",
    "            for j in range(n_round): # run x amount of rounds per game\n",
    "                if player4.chips <=0: #stop game if strategy player runs out of money\n",
    "                    break \n",
    "                    \n",
    "                game.game_run()\n",
    "                round_played+=1\n",
    "            \n",
    "            net_game_win={\n",
    "                'Net Win': {player.name: player.chips - start_chips[player.name] for player in game.all_players},\n",
    "                'Rounds Played': round_played}\n",
    "            net_win.append(net_game_win)\n",
    "        results.append({\"Threshold\":t, \"Net Win\": net_win})\n",
    "        \n",
    "    return results"
   ]
  },
  {
   "cell_type": "code",
   "execution_count": 104,
   "metadata": {},
   "outputs": [
    {
     "name": "stdout",
     "output_type": "stream",
     "text": [
      "Threshold: -5\n",
      "Average Winnings per Round: -0.029657320872274143\n",
      "Standard Deviation: 30.642454209805056\n",
      "Net Win Probability: 0.02\n",
      "Net Lose Probability: 0.98\n",
      "Threshold: -4\n",
      "Average Winnings per Round: -0.03276855303287021\n",
      "Standard Deviation: 17.438749955200343\n",
      "Net Win Probability: 0.01\n",
      "Net Lose Probability: 0.99\n",
      "Threshold: -3\n",
      "Average Winnings per Round: -0.03603504928806134\n",
      "Standard Deviation: 12.934836682386052\n",
      "Net Win Probability: 0.01\n",
      "Net Lose Probability: 0.99\n",
      "Threshold: -2\n",
      "Average Winnings per Round: -0.03714177978883861\n",
      "Standard Deviation: 12.278029157808675\n",
      "Net Win Probability: 0.01\n",
      "Net Lose Probability: 0.99\n",
      "Threshold: -1\n",
      "Average Winnings per Round: -0.044808988764044946\n",
      "Standard Deviation: 2.9849623113198605\n",
      "Net Win Probability: 0.0\n",
      "Net Lose Probability: 1.0\n",
      "Threshold: 0\n",
      "Average Winnings per Round: -0.04636871508379888\n",
      "Standard Deviation: 3.9799497484264807\n",
      "Net Win Probability: 0.0\n",
      "Net Lose Probability: 1.0\n",
      "Threshold: 1\n",
      "Average Winnings per Round: -0.04621106462110647\n",
      "Standard Deviation: 5.969924622639721\n",
      "Net Win Probability: 0.0\n",
      "Net Lose Probability: 1.0\n",
      "Threshold: 2\n",
      "Average Winnings per Round: -0.04549590536851683\n",
      "Standard Deviation: 0.0\n",
      "Net Win Probability: 0.0\n",
      "Net Lose Probability: 1.0\n",
      "Threshold: 3\n",
      "Average Winnings per Round: -0.055248618784530384\n",
      "Standard Deviation: 0.0\n",
      "Net Win Probability: 0.0\n",
      "Net Lose Probability: 1.0\n",
      "Threshold: 4\n",
      "Average Winnings per Round: -0.0681198910081744\n",
      "Standard Deviation: 0.0\n",
      "Net Win Probability: 0.0\n",
      "Net Lose Probability: 1.0\n"
     ]
    }
   ],
   "source": [
    "res=threshold_tester(n_round=100,n_game=100)\n",
    "thresholds=range(-5,5)\n",
    "for threshold in thresholds:\n",
    "    strat_win_threshold = [net_game_win['Net Win']['Strategy'] for result in res if result['Threshold'] == threshold for net_game_win in result['Net Win']]\n",
    "    \n",
    "    if strat_win_threshold:  # Ensure results exist\n",
    "        rounds_played= [net_game_win['Rounds Played'] for result in res if result['Threshold'] == threshold for net_game_win in result['Net Win']]\n",
    "        total_rounds_played=sum(rounds_played)    \n",
    "        avg_win = np.mean(strat_win_threshold) / total_rounds_played\n",
    "        std_dev = np.std(strat_win_threshold)\n",
    "        win_prob = sum(1 for chips in strat_win_threshold if chips > 0) / len(strat_win_threshold)\n",
    "        lose_prob = 1 - win_prob\n",
    "        \n",
    "        print(f\"Threshold: {threshold}\")\n",
    "        print(f\"Average Winnings per Round: {avg_win}\")\n",
    "        print(f\"Standard Deviation: {std_dev}\")\n",
    "        print(f\"Net Win Probability: {win_prob}\")\n",
    "        print(f\"Net Lose Probability: {lose_prob}\")"
   ]
  },
  {
   "cell_type": "markdown",
   "metadata": {},
   "source": [
    "Optimal threshold value seem to be -5"
   ]
  },
  {
   "cell_type": "markdown",
   "metadata": {},
   "source": [
    "10. Create a new strategy based on web searches or your own ideas. Demonstrate that the new strategy will result in increased or decreased winnings. "
   ]
  },
  {
   "cell_type": "code",
   "execution_count": 34,
   "metadata": {},
   "outputs": [],
   "source": [
    "class Hopeful_Strategy(Strategy):\n",
    "\n",
    "    def decide(self,player,deck):\n",
    "        #soft for when hand has Ace that can be either 1/11 opposed to hard-value fixed at 17\n",
    "        soft_hand=player.hand.total < 17 and player.hand.aces > 0 \n",
    "\n",
    "        if player.hand.total <= 11:\n",
    "            return 'h'\n",
    "        elif player.hand.total < 17 and soft_hand:\n",
    "            return 'h'\n",
    "        elif 12 <= player.hand.total <=16:\n",
    "            return 'h'\n",
    "        else:\n",
    "            return 's'"
   ]
  },
  {
   "cell_type": "code",
   "execution_count": 36,
   "metadata": {},
   "outputs": [],
   "source": [
    "#same to tester func in q8, difference is in player\n",
    "\n",
    "def new_tester(n_round=50,n_game=1):\n",
    "    net_win=list()\n",
    "    for i in range(n_game): #play x amount of game\n",
    "        game=Game(n_round,quiet_mode=True) \n",
    "        player1 = Player(\"Sim1\", Dealer_Strategy(), chips=100,quiet_mode=True)\n",
    "        player2 = Player(\"Sim2\", Dealer_Strategy(), chips=100,quiet_mode=True)\n",
    "        player3 = Player(\"Hope\", Hopeful_Strategy(), chips=100,quiet_mode=True) #added new strategy player - Hope\n",
    "        player4 = Player(\"Strategy\", Card_Count_Strategy(threshold=-2), chips=100,quiet_mode=True)\n",
    "        game.add_player(player1)\n",
    "        game.add_player(player2)\n",
    "        game.add_player(player3)\n",
    "        game.add_player(player4)\n",
    "\n",
    "        start_chips= {player.name: player.chips for player in game.all_players} #to calc net chips\n",
    "\n",
    "        deck=Deck(quiet_mode=True)\n",
    "        game.deck=deck\n",
    "\n",
    "        round_played=0 #track rounds played in 1 game\n",
    "        for j in range(n_round): # run x amount of rounds per game\n",
    "            if player4.chips <=0: #stop game if strategy player runs out of money\n",
    "                break \n",
    "                \n",
    "            game.game_run()\n",
    "            round_played+=1\n",
    "        \n",
    "        net_game_win={\n",
    "            'Net Win': {player.name: player.chips - start_chips[player.name] for player in game.all_players},\n",
    "            'Rounds Played': round_played}\n",
    "        net_win.append(net_game_win)\n",
    "        \n",
    "    return net_win"
   ]
  },
  {
   "cell_type": "code",
   "execution_count": 38,
   "metadata": {},
   "outputs": [
    {
     "name": "stdout",
     "output_type": "stream",
     "text": [
      "Average Net Winnings (Chips) per Round: -0.006985431453119163 \n",
      "Standard Dev: 46.64021869588521 \n",
      "Win Probability: 0.28 \n",
      "Lose Probability: 0.72\n"
     ]
    },
    {
     "data": {
      "text/plain": [
       "Text(0, 0.5, 'Frequency/Amount of Games')"
      ]
     },
     "execution_count": 38,
     "metadata": {},
     "output_type": "execute_result"
    },
    {
     "data": {
      "image/png": "[encoded data removed]",
      "text/plain": [
       "<Figure size 640x480 with 1 Axes>"
      ]
     },
     "metadata": {},
     "output_type": "display_data"
    }
   ],
   "source": [
    "new_game=new_tester(n_game=100) #100 games of automatic 50 rounds/until strategy player runs out of chips\n",
    "\n",
    "#for the stats \n",
    "hope_win= [d['Net Win']['Hope'] for d in new_game]\n",
    "\n",
    "rounds_pl= [r['Rounds Played'] for r in new_game]\n",
    "total_rounds_pl=sum(rounds_pl)\n",
    "\n",
    "hope_av_w=np.mean(hope_win)/ total_rounds_pl #account for rounds actually played/game\n",
    "hope_sta=np.std(hope_win)\n",
    "net_win_p=sum(1 for chips in hope_win if chips > 0)/len(hope_win) #account for games played\n",
    "net_lose_p=1-net_win_p\n",
    "\n",
    "print(\"Average Net Winnings (Chips) per Round:\", hope_av_w, \n",
    "      \"\\nStandard Dev:\", hope_sta, \"\\nWin Probability:\", net_win_p ,\n",
    "      \"\\nLose Probability:\", net_lose_p)\n",
    "\n",
    "#histogram for hope player only\n",
    "plt.hist(hope_win,bins=20,color='maroon')\n",
    "plt.title(\"Histogram of Winning Count for Hope Player\")\n",
    "plt.xlabel(\"Net Chip Winnings\")\n",
    "plt.ylabel(\"Frequency/Amount of Games\")"
   ]
  },
  {
   "cell_type": "code",
   "execution_count": 40,
   "metadata": {},
   "outputs": [
    {
     "data": {
      "image/png": "[encoded data removed]",
      "text/plain": [
       "<Figure size 640x480 with 1 Axes>"
      ]
     },
     "metadata": {},
     "output_type": "display_data"
    }
   ],
   "source": [
    "#histogram for all player\n",
    "total_pl=4\n",
    "all=np.zeros((len(new_game),total_pl)) #make empty array\n",
    "\n",
    "for i, result in enumerate(new_game): #make array into shape (game, player - winnings)\n",
    "    for j,player_name in enumerate(['Sim1','Sim2','Hope','Strategy']):\n",
    "        all[i,j]= result['Net Win'][player_name] \n",
    "        \n",
    "for i in range(all.shape[1]):\n",
    "    plt.hist(all[:,i], label=f'Player {i+1}', alpha=0.5, bins=20)\n",
    "plt.title(\"Histogram of Winning Count for All Player\")\n",
    "plt.xlabel(\"Net Chip Winnings\")\n",
    "plt.ylabel(\"Frequency/Amount of Games\")\n",
    "plt.legend()\n",
    "plt.show()"
   ]
  },
  {
   "cell_type": "code",
   "execution_count": null,
   "metadata": {},
   "outputs": [],
   "source": []
  }
 ],
 "metadata": {
  "kernelspec": {
   "display_name": "Python 3 (ipykernel)",
   "language": "python",
   "name": "python3"
  },
  "language_info": {
   "codemirror_mode": {
    "name": "ipython",
    "version": 3
   },
   "file_extension": ".py",
   "mimetype": "text/x-python",
   "name": "python",
   "nbconvert_exporter": "python",
   "pygments_lexer": "ipython3",
   "version": "3.12.4"
  }
 },
 "nbformat": 4,
 "nbformat_minor": 4
}
