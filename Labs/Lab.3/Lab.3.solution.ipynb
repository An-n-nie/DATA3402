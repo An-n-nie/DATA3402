{
 "cells": [
  {
   "cell_type": "markdown",
   "metadata": {},
   "source": [
    "# Lab 3\n",
    "\n",
    "In this lab we will become familiar with distributions, histograms, and functional programming. Do not use numpy or any other library for this lab.\n",
    "\n",
    "Before that, lets get setup homework submission and submit your previous lab.  \n",
    "\n",
    "## Working on the Command-line.\n",
    "\n",
    "It is important for you to learn to work on the command line and to be familiar with the Unix environment (e.g. Linux, Mac OS, or Windows Linux Subsystem). We'll go over working on the command-line in detail later in the course.\n",
    "\n",
    "You are required to submit your work in this course via GitHub. Today in class, you will setup everything on the command-line.\n",
    "\n",
    "### Command-line basics\n",
    "\n",
    "There is plenty of material online that will help you figure out how to do various tasks on the command line. Commands you may need to know today:\n",
    "\n",
    "* `ls`: lists the contents of the current directory.\n",
    "* `pwd`: prints the path of the current directory.\n",
    "* `cd <directory>`: changes your current directory to the specified directory.\n",
    "* `cd ..`: changes current directory to the previous directory. Basically steps out of the current directory to the directory containing the current directory.\n",
    "* `mkdir <directory>`: create a new directory with the specified name.\n",
    "* `rmdir <directory>`: removes the specified directory. Note it has to be empty.\n",
    "* `rm <filename>`: deletes the specified file.\n",
    "* `mv <filename 1> <filename 2>`: Moves or renames a file.\n",
    "* `cp <filename 1> <filename 2>`: copies an file. If you just provide a path to a directory, it copies the file into that directory with the same filename. If you specifiy a new filename, the copy has a new name. For example `cp File.1.txt File.2.txt` creates a copy of `File.1.txt` with the name `File.2.txt`. Meanwhile `cp File.1.txt my_directory`, where `my_directory` is a directory, creates a copy of `File.1.txt` in directory `my_directory` with the name `File.1.txt`.\n",
    "\n",
    "For reference, here are some example resources I found by googling:\n",
    "\n",
    "* Paths and Wildcards: https://www.warp.dev/terminus/linux-wildcards\n",
    "* Basic commands like copy: https://kb.iu.edu/d/afsk\n",
    "* General introduction to shell: https://github-pages.ucl.ac.uk/RCPSTrainingMaterials/HPCandHTCusingLegion/2_intro_to_shell.html\n",
    "* Manual pages: https://www.geeksforgeeks.org/linux-man-page-entries-different-types/?ref=ml_lbp\n",
    "* Chaining commands: https://www.geeksforgeeks.org/chaining-commands-in-linux/?ref=ml_lbp\n",
    "* Piping: https://www.geeksforgeeks.org/piping-in-unix-or-linux/\n",
    "* Using sed: https://www.geeksforgeeks.org/sed-command-linux-set-2/?ref=ml_lbp\n",
    "* Various Unix commands: https://www.geeksforgeeks.org/linux-commands/?ref=lbp\n",
    "* Cheat sheets:\n",
    "    * https://www.stationx.net/unix-commands-cheat-sheet/\n",
    "    * https://cheatography.com/davechild/cheat-sheets/linux-command-line/\n",
    "    * https://www.theknowledgeacademy.com/blog/unix-commands-cheat-sheet/\n",
    "    \n",
    "These aren't necessarily the best resources. Feel free to search for better ones. Also, don't forget that Unix has built-in manual pages for all of its commands. Just type `man <command>` at the command prompt. Use the space-bar to scroll through the documentation and \"q\" to exit.\n",
    "\n",
    "\n",
    "### Setup and Submission\n",
    "\n",
    "Our course repository is public. The instructions here aim to have you setup a fork of the course repository. Unfortunately because you are forking a public repo, your fork will have to be public also. \n",
    "\n",
    "You should be familiar with git from the first semester of this course. I assume that you all have github accounts and have setup things to be able to [push to github using ssh](https://docs.github.com/en/github/authenticating-to-github/connecting-to-github-with-ssh). The instuctions here lead you to:\n",
    "\n",
    "We'll overview what you will do before going through step by step instructions.\n",
    "\n",
    "1. Setup:\n",
    "    1. Fork the class repository. Some directions in [fork-a-repo](https://docs.github.com/en/github/getting-started-with-github/fork-a-repo).\n",
    "    1. Create a directory on your personal system where you will keep all course materials.\n",
    "    1. In that directory, clone your fork of the repository.\n",
    "    1. Using `git remote`, set the upstream to be the class repo, so you can pull from the class and push to your fork.\n",
    "\n",
    "1. Submission:\n",
    "    1. Copy your solutions into the appropriate directory (e.g. into `Labs/Lab.2/`) and with appropriate filename `Lab.2.solution.ipynb'.\n",
    "    1. Commit / push your solutions.\n",
    " \n",
    "Below are step by step instructions with examples (including example directory naming convention). Feel free to modify things as you see fit. \n",
    "\n",
    "#### Setup\n",
    "You should only need to follow this instructions once. Here are some useful git commands:\n",
    "\n",
    "* Git help: `git help`\n",
    "* Git remote help: `git help remote`\n",
    "* Check remote status: `git remote -v`\n",
    "* Add a remote: `git remote add <stream name> <repo URL>`\n",
    "* Add a remove: `git remote remove <stream name>`\n",
    "\n",
    "Steps:\n",
    "1. In a browser, log into GitHub and navigate to the [course repository](https://github.com/UTA-DataScience/DATA3402.Spring.2025).\n",
    "1. On the top right of the page, press the fork button to create a new fork into your own GitHub account.\n",
    "1. After successful fork, you should find the browser showing your fork of the course repository. Use the green \"Code\" button to copy path to the repo into your the clipboard of your computer.\n",
    "1. Open a shell on your personal computer.\n",
    "1. If you have not done so already, create a new directory/folder where you will keep all course material to navigate to it. For example: `mkdir Data-3402` and `cd Data-3402`.\n",
    "1. Clone your fork of the repository using `git clone` followed by the path you copied into your clipboard. (copy/paste)\n",
    "1. Paste the URL to your fork in the worksheet for the TAs and instructors.\n",
    "1. Now go into the directory of your clone (`cd DATA3402.Spring.2025`).\n",
    "1. Type `git remote -v` to see the current setup for fetch and pull.\n",
    "1. Note the URL you see. This should be the same as what you used for your clone for both push and fetch.\n",
    "1. Delete the origin remote using `git remote remove origin`.\n",
    "1. Add the course repo as your remote using `git remote add origin https://github.com/UTA-DataScience/DATA3402.Spring.2025.git`.\n",
    "1. Change the push to point to your fork. This means you will need the URL to your clone we copied earlier and confirmed as the original origin. The command will look something like: `git remote set-url --push origin  https://github.com/XXXXXX/DATA3402.Spring.2025.git`, where XXXXX is your username on GitHub.\n",
    "1. Note that if you setup everything correctly, you now should be able to do `git pull` to get updates from the course repo, and do `git push` to push your commits into your own fork.\n",
    "\n",
    "### Submission\n",
    "These instructions outline how you submit files. Some useful commands:\n",
    "* To add a file to local repository: `git add <file>`.\n",
    "* To commit all changed files into local repository: `git -a -m \"A message\"`. You need to provide some comment when you commit. \n",
    "* To push the commited files from the local repository to GitHub: `git push`.\n",
    "* To get updates from GitHub: `git pull`.\n",
    "\n",
    "Steps:\n",
    "1. To submit your labs, navigate to your clone of your fork of the course repository. \n",
    "1. Use `git pull` to make sure you have the latest updates. \n",
    "1. Make sure your copy of the lab your are working on is in the appropriate place in this clone. That means if you have the file elsewhere, copy it to the same directory in your clone of your fork. \n",
    "1. Note that in order to avoid future conflicts, you should always name your solution differently than the original file in the class repo. For example if your file is still named `Lab.2.ipynb` you should rename it using the `mv` command: `mv Lab.2.ipynb Lab.2.solution.ipynb`. \n",
    "1. Add and files you wish to submit into the repo. For example: `git add Labs/Lab.2/Lab.2.solution.ipynb`\n",
    "1. Commit any changes: `git commit -a -m \"Lab 2 updates\"`\n",
    "1. Push your changes: `git push`\n",
    "1. Check on github website that your solutions have been properly submitted.\n",
    "\n",
    "Before you leave the session today, make sure your GitHub Repo is setup. If you need to work further on your lab, navigate jupyter to the copy of the lab you just submitted and work there. Once done, repeat the commit and push commands to submit your updated solution. Note that lab 2 is due by midnight Friay 1/31/2025.\n"
   ]
  },
  {
   "cell_type": "markdown",
   "metadata": {},
   "source": [
    "### Uniform Distribution\n",
    "Lets start with generating some fake random data. You can get a random number between 0 and 1 using the python random module as follow:"
   ]
  },
  {
   "cell_type": "code",
   "execution_count": 10,
   "metadata": {},
   "outputs": [
    {
     "name": "stdout",
     "output_type": "stream",
     "text": [
      "The Value of x is 0.15309207277905268\n"
     ]
    }
   ],
   "source": [
    "import random\n",
    "x=random.random()\n",
    "print(\"The Value of x is\", x)"
   ]
  },
  {
   "cell_type": "markdown",
   "metadata": {},
   "source": [
    "Everytime you call random, you will get a new number.\n",
    "\n",
    "*Exercise 1:* Using random, write a function `generate_uniform(N, mymin, mymax)`, that returns a python list containing N random numbers between specified minimum and maximum value. Note that you may want to quickly work out on paper how to turn numbers between 0 and 1 to between other values. "
   ]
  },
  {
   "cell_type": "code",
   "execution_count": 12,
   "metadata": {},
   "outputs": [],
   "source": [
    "# Skeleton\n",
    "def generate_uniform(N,x_min,x_max):\n",
    "    out = []\n",
    "    ### BEGIN SOLUTION\n",
    "\n",
    "    for i in range(N):\n",
    "        random_number=x_min + (x_max-x_min * random.random())\n",
    "        out.append(random_number)\n",
    "    \n",
    "    ### END SOLUTION\n",
    "    return out"
   ]
  },
  {
   "cell_type": "code",
   "execution_count": 14,
   "metadata": {},
   "outputs": [
    {
     "name": "stdout",
     "output_type": "stream",
     "text": [
      "Data Type: <class 'list'>\n",
      "Data Length: 1000\n",
      "Type of Data Contents: <class 'float'>\n",
      "Data Minimum: 0.000603837168123178\n",
      "Data Maximum: 9.987120127449003\n"
     ]
    }
   ],
   "source": [
    "# Test your solution here\n",
    "data=generate_uniform(1000,-10,10)\n",
    "print (\"Data Type:\", type(data))\n",
    "print (\"Data Length:\", len(data))\n",
    "if len(data)>0: \n",
    "    print (\"Type of Data Contents:\", type(data[0]))\n",
    "    print (\"Data Minimum:\", min(data))\n",
    "    print (\"Data Maximum:\", max(data))"
   ]
  },
  {
   "cell_type": "markdown",
   "metadata": {},
   "source": [
    "*Exercise 2a:* \n",
    "Write a function that computes the mean of values in a list. Recall the equation for the mean of a random variable $\\bf{x}$ computed on a data set of $n$ values $\\{ x_i \\} = \\{x_1, x_2, ..., x_n\\}$  is ${\\bf\\bar{x}} = \\frac{1}{n} \\sum_i^n x_i$."
   ]
  },
  {
   "cell_type": "code",
   "execution_count": 16,
   "metadata": {},
   "outputs": [],
   "source": [
    "# Skeleton\n",
    "def mean(Data):\n",
    "    m=0.\n",
    "    \n",
    "    ### BEGIN SOLUTION\n",
    "\n",
    "    m=sum(Data)/len(Data)\n",
    "    \n",
    "    ### END SOLUTION\n",
    "    \n",
    "    return m"
   ]
  },
  {
   "cell_type": "code",
   "execution_count": 18,
   "metadata": {},
   "outputs": [
    {
     "name": "stdout",
     "output_type": "stream",
     "text": [
      "Mean of Data: 4.972570069442588\n"
     ]
    }
   ],
   "source": [
    "# Test your solution here\n",
    "print (\"Mean of Data:\", mean(data))"
   ]
  },
  {
   "cell_type": "markdown",
   "metadata": {},
   "source": [
    "*Exercise 2b:* \n",
    "Write a function that computes the variance of values in a list. Recall the equation for the variance of a random variable $\\bf{x}$ computed on a data set of $n$ values $\\{ x_i \\} = \\{x_1, x_2, ..., x_n\\}$  is ${\\bf\\langle x \\rangle} = \\frac{1}{n} \\sum_i^n (x_i - {\\bf\\bar{x}})$."
   ]
  },
  {
   "cell_type": "code",
   "execution_count": 20,
   "metadata": {},
   "outputs": [],
   "source": [
    "# Skeleton\n",
    "def variance(Data):\n",
    "    m=0.\n",
    "    \n",
    "    ### BEGIN SOLUTION\n",
    "\n",
    "    me=mean(Data)\n",
    "    squared_diff=list()\n",
    "    for i in Data:\n",
    "        calculate=(i-me)**2\n",
    "        squared_diff.append(calculate)\n",
    "        \n",
    "    sum_sq=sum(squared_diff)\n",
    "    m=sum_sq/len(Data)\n",
    "    \n",
    "    ### END SOLUTION\n",
    "    \n",
    "    return m"
   ]
  },
  {
   "cell_type": "code",
   "execution_count": 22,
   "metadata": {},
   "outputs": [
    {
     "name": "stdout",
     "output_type": "stream",
     "text": [
      "Variance of Data: 8.745556927535837\n"
     ]
    }
   ],
   "source": [
    "# Test your solution here\n",
    "print (\"Variance of Data:\", variance(data))"
   ]
  },
  {
   "cell_type": "markdown",
   "metadata": {},
   "source": [
    "## Histogramming"
   ]
  },
  {
   "cell_type": "markdown",
   "metadata": {},
   "source": [
    "*Exercise 3:* Write a function that bins the data so that you can create a histogram. An example of how to implement histogramming is the following logic:\n",
    "\n",
    "* User inputs a list of values `x` and optionally `n_bins` which defaults to 10.\n",
    "* If not supplied, find the minimum and maximum (`x_min`,`x_max`) of the values in x.\n",
    "* Determine the bin size (`bin_size`) by dividing the range of the function by the number of bins.\n",
    "* Create an empty list of zeros of size `n_bins`, call it `hist`.\n",
    "* Loop over the values in `x`\n",
    "    * Loop over the values in `hist` with index `i`:\n",
    "        * If x is between `x_min+i*bin_size` and `x_min+(i+1)*bin_size`, increment `hist[i].` \n",
    "        * For efficiency, try to use continue to goto the next bin and data point.\n",
    "* Return `hist` and the list corresponding of the bin edges (i.e. of `x_min+i*bin_size`).    "
   ]
  },
  {
   "cell_type": "code",
   "execution_count": 24,
   "metadata": {},
   "outputs": [],
   "source": [
    "# Solution\n",
    "def histogram(x,n_bins=10,x_min=None,x_max=None):\n",
    "    ### BEGIN SOLUTION\n",
    "\n",
    "    if x_min is None:\n",
    "        x_min=min(x)\n",
    "    if x_max is None:\n",
    "        x_max=max(x)\n",
    "\n",
    "    bin_size=(x_max-x_min)/n_bins\n",
    "\n",
    "    hist=[0]*n_bins\n",
    "\n",
    "    bin_edges=[x_min+i*bin_size for i in range(n_bins+1)]\n",
    "    \n",
    "    for value in x:\n",
    "        for i in range(n_bins): \n",
    "            if bin_edges[i] < value <bin_edges[i+1]:\n",
    "                hist[i]+=1\n",
    "                continue\n",
    "    \n",
    "    ### END SOLUTION\n",
    "\n",
    "    return hist,bin_edges"
   ]
  },
  {
   "cell_type": "code",
   "execution_count": 26,
   "metadata": {},
   "outputs": [
    {
     "name": "stdout",
     "output_type": "stream",
     "text": [
      "[26, 23, 20, 22, 16, 23, 23, 20, 23, 18, 15, 21, 20, 21, 12, 21, 17, 31, 18, 13, 19, 29, 17, 22, 13, 22, 18, 13, 16, 21, 20, 22, 21, 19, 24, 19, 12, 19, 18, 19, 21, 22, 13, 30, 18, 18, 29, 18, 22, 21]\n"
     ]
    }
   ],
   "source": [
    "# Test your solution here\n",
    "h,b=histogram(data,50)\n",
    "print(h)"
   ]
  },
  {
   "cell_type": "markdown",
   "metadata": {},
   "source": [
    "*Exercise 4:* Write a function that uses the histogram function in the previous exercise to create a text-based \"graph\". For example the output could look like the following:\n",
    "```\n",
    "[  0,  1] : ######\n",
    "[  1,  2] : #####\n",
    "[  2,  3] : ######\n",
    "[  3,  4] : ####\n",
    "[  4,  5] : ####\n",
    "[  5,  6] : ######\n",
    "[  6,  7] : #####\n",
    "[  7,  8] : ######\n",
    "[  8,  9] : ####\n",
    "[  9, 10] : #####\n",
    "```\n",
    "\n",
    "Where each line corresponds to a bin and the number of `#`'s are proportional to the value of the data in the bin. "
   ]
  },
  {
   "cell_type": "code",
   "execution_count": 28,
   "metadata": {},
   "outputs": [],
   "source": [
    "# Solution\n",
    "def draw_histogram(x,n_bins,x_min=None,x_max=None,character=\"#\",max_character_per_line=20):\n",
    "    ### BEGIN SOLUTION\n",
    "\n",
    "    hist,bin_edges=histogram(x,n_bins,x_min=None,x_max=None)\n",
    "    max_value=max(hist) if hist else 1\n",
    "    for index,value in enumerate(hist):\n",
    "        text= character * int(value/max_value * max_character_per_line)\n",
    "        print(f\"{bin_edges[index]:.2f} - {bin_edges[index+1]:.2f} | {text}\")\n",
    "    \n",
    "    ### END SOLUTION\n",
    "\n",
    "    return hist,bin_edges"
   ]
  },
  {
   "cell_type": "code",
   "execution_count": 30,
   "metadata": {},
   "outputs": [
    {
     "name": "stdout",
     "output_type": "stream",
     "text": [
      "0.00 - 0.50 | ###################\n",
      "0.50 - 1.00 | ################\n",
      "1.00 - 1.50 | ####################\n",
      "1.50 - 2.00 | ################\n",
      "2.00 - 2.50 | ##############\n",
      "2.50 - 3.00 | ###############\n",
      "3.00 - 3.50 | ##################\n",
      "3.50 - 4.00 | ###############\n",
      "4.00 - 4.49 | ###################\n",
      "4.49 - 4.99 | ##############\n",
      "4.99 - 5.49 | ################\n",
      "5.49 - 5.99 | #############\n",
      "5.99 - 6.49 | ##################\n",
      "6.49 - 6.99 | #################\n",
      "6.99 - 7.49 | ##############\n",
      "7.49 - 7.99 | ###############\n",
      "7.99 - 8.49 | ###############\n",
      "8.49 - 8.99 | ###################\n",
      "8.99 - 9.49 | #################\n",
      "9.49 - 9.99 | ##################\n"
     ]
    }
   ],
   "source": [
    "# Test your solution here\n",
    "h,b=draw_histogram(data,20)"
   ]
  },
  {
   "cell_type": "markdown",
   "metadata": {},
   "source": [
    "## Functional Programming\n",
    "\n",
    "*Exercise 5:* Write a function the applies a booling function (that returns true/false) to every element in data, and return a list of indices of elements where the result was true. Use this function to find the indices of entries greater than 0.5. "
   ]
  },
  {
   "cell_type": "code",
   "execution_count": 32,
   "metadata": {},
   "outputs": [],
   "source": [
    "def where(mylist,myfunc):\n",
    "    out= []\n",
    "    \n",
    "    ### BEGIN SOLUTION\n",
    "\n",
    "    for index,value in enumerate(mylist):\n",
    "        if myfunc(value):\n",
    "            out.append(index)\n",
    "        \n",
    "    \n",
    "    ### END SOLUTION\n",
    "    \n",
    "    return out"
   ]
  },
  {
   "cell_type": "code",
   "execution_count": 34,
   "metadata": {},
   "outputs": [
    {
     "data": {
      "text/plain": [
       "[0, 1, 5]"
      ]
     },
     "execution_count": 34,
     "metadata": {},
     "output_type": "execute_result"
    }
   ],
   "source": [
    "# Test your solution here\n",
    "\n",
    "def threshold(number):\n",
    "    return number >0.5\n",
    "\n",
    "mylist=[0.8,0.7,0.4,0.5,0.2,0.9]\n",
    "where(mylist,threshold)"
   ]
  },
  {
   "cell_type": "markdown",
   "metadata": {},
   "source": [
    "*Exercise 6:* The `inrange(mymin,mymax)` function below returns a function that tests if it's input is between the specified values. Write corresponding functions that test:\n",
    "* Even\n",
    "* Odd\n",
    "* Greater than\n",
    "* Less than\n",
    "* Equal\n",
    "* Divisible by"
   ]
  },
  {
   "cell_type": "code",
   "execution_count": 36,
   "metadata": {},
   "outputs": [
    {
     "name": "stdout",
     "output_type": "stream",
     "text": [
      "True True False False False\n",
      "False False True True False\n",
      "Number of Entries passing F1: 1000\n",
      "Number of Entries passing F2: 0\n"
     ]
    }
   ],
   "source": [
    "def in_range(mymin,mymax):\n",
    "    def testrange(x):\n",
    "        return x<mymax and x>=mymin\n",
    "    return testrange\n",
    "\n",
    "# Examples:\n",
    "F1=in_range(0,10)\n",
    "F2=in_range(10,20)\n",
    "\n",
    "# Test of in_range\n",
    "print (F1(0), F1(1), F1(10), F1(15), F1(20))\n",
    "print (F2(0), F2(1), F2(10), F2(15), F2(20))\n",
    "\n",
    "print (\"Number of Entries passing F1:\", len(where(data,F1)))\n",
    "print (\"Number of Entries passing F2:\", len(where(data,F2)))"
   ]
  },
  {
   "cell_type": "code",
   "execution_count": 38,
   "metadata": {},
   "outputs": [],
   "source": [
    "### BEGIN SOLUTION\n",
    "\n",
    "def is_even():\n",
    "    def test_even(number):\n",
    "        return number%2==0\n",
    "    return test_even\n",
    "\n",
    "def is_odd():\n",
    "    def test_odd(number):\n",
    "        return number%2!=0\n",
    "    return test_odd\n",
    "    \n",
    "def greater_than(number):\n",
    "    def is_greater(x):\n",
    "        return x>number\n",
    "    return is_greater\n",
    "\n",
    "def less_than(number):\n",
    "    def is_less(x):\n",
    "        return x<number\n",
    "    return is_less\n",
    "\n",
    "def equal(number):\n",
    "    def is_equal(x):\n",
    "        return x==number\n",
    "    return is_equal\n",
    "\n",
    "def divisible(number):\n",
    "    def is_divisible(x):\n",
    "        return x%number==0\n",
    "    return is_divisible\n",
    "\n",
    "### END SOLUTION"
   ]
  },
  {
   "cell_type": "code",
   "execution_count": 40,
   "metadata": {},
   "outputs": [
    {
     "name": "stdout",
     "output_type": "stream",
     "text": [
      "Number of Entries passing - even: 0\n",
      "Number of Entries passing - odd: 1000\n",
      "Number of Entries passing - greater than 2: 785\n",
      "Number of Entries passing - less than 1: 108\n",
      "Number of Entries passing - equal to 5: 0\n",
      "Number of Entries passing - divisible by 3: 0\n"
     ]
    }
   ],
   "source": [
    "# Test your solution\n",
    "\n",
    "print (\"Number of Entries passing - even:\", len(where(data,is_even())))\n",
    "print (\"Number of Entries passing - odd:\", len(where(data,is_odd())))\n",
    "g=greater_than(2)\n",
    "print (\"Number of Entries passing - greater than 2:\", len(where(data,g)))\n",
    "l=less_than(1)\n",
    "print (\"Number of Entries passing - less than 1:\", len(where(data,l)))\n",
    "e=equal(5)\n",
    "print (\"Number of Entries passing - equal to 5:\", len(where(data,e)))\n",
    "d=divisible(7)\n",
    "print (\"Number of Entries passing - divisible by 3:\", len(where(data,d)))"
   ]
  },
  {
   "cell_type": "markdown",
   "metadata": {},
   "source": [
    "*Exercise 7:* Repeat the previous exercise using `lambda` and the built-in python functions sum and map instead of your solution above. "
   ]
  },
  {
   "cell_type": "code",
   "execution_count": 42,
   "metadata": {},
   "outputs": [],
   "source": [
    "### BEGIN SOLUTION\n",
    "\n",
    "is_even_L= lambda x:x%2==0\n",
    "\n",
    "is_odd_L=lambda x:x%2!=0\n",
    "\n",
    "greater_than_L=lambda number: lambda x:x>number\n",
    "\n",
    "less_than_L=lambda number: lambda x:x<number\n",
    "\n",
    "equal_L=lambda number: lambda x:x==number\n",
    "\n",
    "divisible_L=lambda number: lambda x:x%number==0 \n",
    "    \n",
    "### END SOLUTION"
   ]
  },
  {
   "cell_type": "code",
   "execution_count": 44,
   "metadata": {},
   "outputs": [
    {
     "name": "stdout",
     "output_type": "stream",
     "text": [
      "Number of Entries passing: 0\n",
      "Number of Entries passing: 1000\n",
      "Test if even: True\n",
      "Test if odd: False\n",
      "Number of Entries passing: 785\n",
      "Number of Entries passing: 108\n",
      "Number of Entries passing: 0\n",
      "Number of Entries passing: 0\n"
     ]
    }
   ],
   "source": [
    "print (\"Number of Entries passing:\", sum(map(is_even_L,data)))\n",
    "print (\"Number of Entries passing:\", sum(map(is_odd_L,data)))\n",
    "print(\"Test if even:\", is_even_L(8))\n",
    "print(\"Test if odd:\", is_odd_L(12))\n",
    "g=greater_than_L(2)\n",
    "print (\"Number of Entries passing:\", sum(map(g,data)))\n",
    "l=less_than_L(1)\n",
    "print (\"Number of Entries passing:\", sum(map(l,data)))\n",
    "e=equal_L(5)\n",
    "print (\"Number of Entries passing:\", sum(map(e,data)))\n",
    "d=divisible_L(7)\n",
    "print (\"Number of Entries passing:\", sum(map(d,data)))"
   ]
  },
  {
   "cell_type": "markdown",
   "metadata": {},
   "source": [
    "## Monte Carlo\n",
    "\n",
    "*Exercise 7:* Write a \"generator\" function called `generate_function(func,x_min,x_max,N)`, that instead of generating a flat distribution, generates a distribution with functional form coded in `func`. Note that `func` will always be > 0.  \n",
    "\n",
    "Use the test function below and your histogramming functions above to demonstrate that your generator is working properly.\n",
    "\n",
    "Hint: A simple, but slow, solution is to a draw random number `test_x` within the specified range and another number `p` between the `min` and `max` of the function (which you will have to determine). If `p<=function(test_x)`, then place `test_x` on the output. If not, repeat the process, drawing two new numbers. Repeat until you have the specified number of generated numbers, `N`. For this problem, it's OK to determine the `min` and `max` by numerically sampling the function.  "
   ]
  },
  {
   "cell_type": "code",
   "execution_count": 46,
   "metadata": {},
   "outputs": [],
   "source": [
    "\n",
    "def find_min_max(func,x_min,x_max,n=100):\n",
    "    y_values=list()\n",
    "    for i in range(n):\n",
    "        x= x_min + (x_max-x_min)*i/n\n",
    "        y=func(x)\n",
    "        y_values.append(y)\n",
    "    return min(y_values),max(y_values)\n",
    "\n",
    "\n",
    "def generate_function(func,x_min,x_max,N=1000):\n",
    "    out = list()\n",
    "    ### BEGIN SOLUTION\n",
    "                              \n",
    "    y_min,y_max=find_min_max(func,x_min,x_max)\n",
    "        \n",
    "    while len(out)<N:\n",
    "        test_x=random.uniform(x_min,x_max)\n",
    "        p=random.uniform(y_min,y_max)\n",
    "\n",
    "        if p<=func(test_x):\n",
    "            out.append(test_x)\n",
    "    \n",
    "    ### END SOLUTION\n",
    "    \n",
    "    return out"
   ]
  },
  {
   "cell_type": "code",
   "execution_count": 48,
   "metadata": {},
   "outputs": [],
   "source": [
    "# A test function\n",
    "def test_func(x,a=1,b=1):\n",
    "    return abs(a*x+b)"
   ]
  },
  {
   "cell_type": "code",
   "execution_count": 52,
   "metadata": {},
   "outputs": [
    {
     "name": "stdout",
     "output_type": "stream",
     "text": [
      "1.14 - 6.08 | #\n",
      "6.08 - 11.02 | #\n",
      "11.02 - 15.97 | ###\n",
      "15.97 - 20.91 | ###\n",
      "20.91 - 25.85 | ####\n",
      "25.85 - 30.79 | ######\n",
      "30.79 - 35.73 | ######\n",
      "35.73 - 40.67 | #########\n",
      "40.67 - 45.62 | ######\n",
      "45.62 - 50.56 | ###########\n",
      "50.56 - 55.50 | ##########\n",
      "55.50 - 60.44 | ##########\n",
      "60.44 - 65.38 | #############\n",
      "65.38 - 70.32 | ###############\n",
      "70.32 - 75.27 | ############\n",
      "75.27 - 80.21 | ##############\n",
      "80.21 - 85.15 | #################\n",
      "85.15 - 90.09 | #################\n",
      "90.09 - 95.03 | ####################\n",
      "95.03 - 99.97 | ##################\n"
     ]
    }
   ],
   "source": [
    "a=generate_function(test_func,0,100)\n",
    "e,x=draw_histogram(a,20)"
   ]
  },
  {
   "cell_type": "markdown",
   "metadata": {},
   "source": [
    "*Exercise 8:* Use your function to generate 1000 numbers that are normal distributed, using the `gaussian` function below. Confirm the mean and variance of the data is close to the mean and variance you specify when building the Gaussian. Histogram the data. "
   ]
  },
  {
   "cell_type": "code",
   "execution_count": 54,
   "metadata": {},
   "outputs": [],
   "source": [
    "import math\n",
    "\n",
    "def gaussian(mean, sigma):\n",
    "    def f(x):\n",
    "        return math.exp(-((x-mean)**2)/(2*sigma**2))/math.sqrt(math.pi*sigma)\n",
    "    return f\n",
    "\n",
    "# Example Instantiation\n",
    "g1=gaussian(0,1)\n",
    "g2=gaussian(10,3)"
   ]
  },
  {
   "cell_type": "code",
   "execution_count": 58,
   "metadata": {},
   "outputs": [
    {
     "name": "stdout",
     "output_type": "stream",
     "text": [
      "Gaussian Mean: 10 \n",
      "Gaussian Variance: 9\n",
      "Data Mean: 9.96609705379881 \n",
      "Data Variance: 8.362069596128725\n",
      "2.02 - 2.80 | \n",
      "2.80 - 3.59 | #\n",
      "3.59 - 4.37 | ##\n",
      "4.37 - 5.15 | ###\n",
      "5.15 - 5.93 | ######\n",
      "5.93 - 6.71 | ###########\n",
      "6.71 - 7.49 | ##############\n",
      "7.49 - 8.27 | #############\n",
      "8.27 - 9.05 | ################\n",
      "9.05 - 9.84 | #################\n",
      "9.84 - 10.62 | #################\n",
      "10.62 - 11.40 | ####################\n",
      "11.40 - 12.18 | ##############\n",
      "12.18 - 12.96 | ############\n",
      "12.96 - 13.74 | ##########\n",
      "13.74 - 14.52 | #######\n",
      "14.52 - 15.30 | ####\n",
      "15.30 - 16.08 | ###\n",
      "16.08 - 16.87 | \n",
      "16.87 - 17.65 | #\n"
     ]
    }
   ],
   "source": [
    "mean_val=10\n",
    "variance_val=3**2\n",
    "sigma=3\n",
    "data1 = generate_function(g2,mean_val-(3*sigma),mean_val+(3*sigma), N=1000)\n",
    "\n",
    "print(\"Gaussian Mean:\",mean_val,\"\\nGaussian Variance:\",variance_val)\n",
    "\n",
    "data_mean_value = mean(data1)\n",
    "data_variance_value = variance(data1)\n",
    "\n",
    "print(\"Data Mean:\", data_mean_value,\"\\nData Variance:\", data_variance_value)\n",
    "\n",
    "h,b=draw_histogram(data1,20)"
   ]
  },
  {
   "cell_type": "markdown",
   "metadata": {},
   "source": [
    "*Exercise 9:* Combine your `generate_function`, `where`, and `in_range` functions above to create an integrate function. Use your integrate function to show that approximately 68% of Normal distribution is within one variance."
   ]
  },
  {
   "cell_type": "code",
   "execution_count": 66,
   "metadata": {},
   "outputs": [
    {
     "name": "stdout",
     "output_type": "stream",
     "text": [
      "The amount of data that fall within 1 variance in a normal distribution: 68.4396560624433%\n"
     ]
    }
   ],
   "source": [
    "def integrate(func, x_min, x_max, n_points=1000):\n",
    "    new=generate_function(func,x_min,x_max,n_points)\n",
    "    data_in_range=len(where(new,in_range(x_min,x_max)))\n",
    "\n",
    "    #this uses the maximum of y value obtained over 2 points - max and min of function of x\n",
    "    integral=(data_in_range/n_points)*(x_max-x_min)* max([func(x) for x in (x_min,x_max)])\n",
    "    return integral\n",
    "\n",
    "result=integrate(g1,-1,1)\n",
    "print(f\"The amount of data that fall within 1 variance in a normal distribution: {result*100}%\")"
   ]
  },
  {
   "cell_type": "code",
   "execution_count": 64,
   "metadata": {},
   "outputs": [
    {
     "name": "stdout",
     "output_type": "stream",
     "text": [
      "The amount of data that fall within 1 variance in a normal distribution: 44.398260647107946%\n"
     ]
    }
   ],
   "source": [
    "def integrate(func, x_min, x_max, n_points=1000):\n",
    "    new=generate_function(func,x_min,x_max,n_points)\n",
    "    data_in_range=len(where(new,in_range(x_min,x_max)))\n",
    "\n",
    "    #this uses the range of y values sampled evenly (100 points) throughout function x\n",
    "    y_min,y_max=find_min_max(func,x_min,x_max)\n",
    "    integral=(data_in_range/n_points)*(x_max-x_min)* (y_max-y_min)\n",
    "    return integral\n",
    "\n",
    "result=integrate(g1,-1,1)\n",
    "print(f\"The amount of data that fall within 1 variance in a normal distribution: {result*100}%\")"
   ]
  },
  {
   "cell_type": "code",
   "execution_count": null,
   "metadata": {},
   "outputs": [],
   "source": []
  }
 ],
 "metadata": {
  "kernelspec": {
   "display_name": "Python 3 (ipykernel)",
   "language": "python",
   "name": "python3"
  },
  "language_info": {
   "codemirror_mode": {
    "name": "ipython",
    "version": 3
   },
   "file_extension": ".py",
   "mimetype": "text/x-python",
   "name": "python",
   "nbconvert_exporter": "python",
   "pygments_lexer": "ipython3",
   "version": "3.12.4"
  }
 },
 "nbformat": 4,
 "nbformat_minor": 4
}
